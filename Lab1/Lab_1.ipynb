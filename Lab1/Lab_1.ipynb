{
 "cells": [
  {
   "cell_type": "markdown",
   "id": "be5da811-decc-479d-9ef5-c00579ef8b05",
   "metadata": {},
   "source": [
    "# Laboratoria 1 "
   ]
  },
  {
   "cell_type": "markdown",
   "id": "c14d862a-fd3c-4dfc-afe4-42950a794389",
   "metadata": {},
   "source": [
    "#### Zadanie 1 [Daniel]\n",
    "\n",
    "Omów podstawowe wzory rachunku różniczkowego,  w szczególności wzór na pochodną funkcji złożonej.\n",
    "Jaka jest fizyczna i geometryczna interpretacja pochodnej?"
   ]
  },
  {
   "cell_type": "markdown",
   "id": "092bbcf2",
   "metadata": {},
   "source": [
    "$$\n",
    "  \\text{1. Definicja pochodnej funkcji: } \\\\\n",
    "$$\n",
    "$$\n",
    "  f'(x) = \\lim_{\\Delta x \\to 0} \\frac{f(x + \\Delta x) - f(x) }{\\Delta x} \\\\\n",
    "$$"
   ]
  },
  {
   "cell_type": "markdown",
   "id": "b7707b4a",
   "metadata": {},
   "source": [
    "$$\n",
    "  \\text{2. Zapis różnicowy} \\quad \\\\\n",
    "$$\n",
    "$$\n",
    "  f'(x) = \\frac{df}{dx}\n",
    "$$"
   ]
  },
  {
   "cell_type": "markdown",
   "id": "cfe8f198",
   "metadata": {},
   "source": [
    "$$\n",
    "  \\text{3. Najważniejsze wzory: } \\\\\n",
    "$$\n",
    "$$\n",
    "  \\frac{d}{dx}x^n = n \\cdot x^{n - 1} \\\\\n",
    "$$\n",
    "$$\n",
    "  \\frac{d}{dx}e^{a \\cdot x} = a \\cdot e^{a \\cdot x} \\\\\n",
    "$$\n",
    "$$\n",
    "  \\frac{d}{dx}a^x = a^x \\cdot ln(a) \\\\\n",
    "$$\n",
    "$$\n",
    "  \\frac{d}{dx}\\ln(x) = \\frac{1}{x} \\\\\n",
    "$$\n",
    "$$\n",
    "  \\frac{d}{dx}\\log_a(x) = \\frac{1}{x \\cdot \\ln(a)}\n",
    "$$"
   ]
  },
  {
   "cell_type": "markdown",
   "id": "8ccabbc8",
   "metadata": {},
   "source": [
    "$$\n",
    "  \\text{4. Najważniejsze wzory trygonometryczne: } \\\\\n",
    "$$\n",
    "$$\n",
    "  \\frac{d}{dx}\\sin(x) = \\cos(x) \\\\\n",
    "$$\n",
    "$$\n",
    "  \\frac{d}{dx}\\cos(x) = -\\sin(x) \\\\\n",
    "$$\n",
    "$$\n",
    "  \\frac{d}{dx}\\csc(x) = - \\csc(x) \\cot(x) \\\\\n",
    "$$\n",
    "$$\n",
    "  \\frac{d}{dx}\\sec(x) = \\sec(x) \\tan(x) \\\\\n",
    "$$\n",
    "$$\n",
    "  \\frac{d}{dx}\\tan(x) = \\frac{1}{\\cos^2(x)} = 1 + \\tan^2(x) \\\\\n",
    "$$\n",
    "$$\n",
    "  \\frac{d}{dx}\\cot(x) = \\frac{-1}{\\sin^2(x)} = - (1 + \\cot^2(x)) \\\\\n",
    "$$\n",
    "$$\n",
    "  \\frac{d}{dx}\\sin^{-1}(x) = \\frac{1}{\\sqrt{1 - x^2}} \\\\\n",
    "$$\n",
    "$$\n",
    "  \\frac{d}{dx}\\cos^{-1}(x) = \\frac{-1}{\\sqrt{1 - x^2}} \\\\\n",
    "$$\n",
    "<!-- $$\n",
    "  \\frac{d}{dx}\\csc^{-1}(x) = -\\frac{1}{|x|\\sqrt{x^2 - 1}} \\\\\n",
    "$$\n",
    "$$\n",
    "  \\frac{d}{dx}\\sec^{-1}(x) = \\frac{1}{|x|\\sqrt{x^2 - 1}} \\\\\n",
    "$$ -->\n",
    "$$\n",
    "  \\frac{d}{dx}\\tan^{-1}(x) = \\frac{1}{1 + x^2} \\\\\n",
    "$$\n",
    "$$\n",
    "  \\frac{d}{dx}\\cot^{-1}(x) = \\frac{-1}{1 + x^2} \\\\\n",
    "$$"
   ]
  },
  {
   "cell_type": "markdown",
   "id": "5779ca0d",
   "metadata": {},
   "source": [
    "$$\n",
    "  \\text{5. Pohodna funckji złożonej: } \\\\\n",
    "$$\n",
    "$$\n",
    "  \\frac{d}{dx}f(g(x)) = (f \\circ g)(x) = f'(g(x)) \\cdot g'(x) \\\\\n",
    "$$\n",
    "$$\n",
    "  \\textcolor{red}{\\text{Wynika to z: }} \\\\\n",
    "$$\n",
    "$$\n",
    "  \\textcolor{red}{\\frac{df}{dx} = \\frac{df}{dg} \\cdot \\frac{dg}{dx}} \\\\\n",
    "$$"
   ]
  },
  {
   "cell_type": "markdown",
   "id": "2aff2ca4",
   "metadata": {},
   "source": [
    "$$\n",
    "  \\text{6. Pohodna mnożenia funkcji: } \\\\\n",
    "$$\n",
    "$$\n",
    "  \\frac{d}{dx}f(x) \\cdot g(x) = f'(x) \\cdot g(x) + f(x) \\cdot g'(x) \\\\\n",
    "$$\n",
    "$$\n",
    "  \\frac{d}{dx}(f_1 \\cdot f_2 \\cdot ... \\cdot f_n) = \\sum_{i=1}^{n}f_1 \\cdot ... \\cdot f'_i \\cdot ... f_n \\\\\n",
    "$$"
   ]
  },
  {
   "cell_type": "markdown",
   "id": "eafae02b",
   "metadata": {},
   "source": [
    "$$\n",
    "  \\text{7. Pohodna dzielenia funkcji: } \\\\\n",
    "$$\n",
    "$$\n",
    "  \\frac{d}{dx}\\left(\\frac{f(x)}{g(x)}\\right) = \\frac{f'(x) \\cdot g(x) - f(x) \\cdot g'(x)}{g(x)^2}, \\text{ g(x) != 0} \\\\\n",
    "$$"
   ]
  },
  {
   "cell_type": "markdown",
   "id": "fd4bab71",
   "metadata": {},
   "source": [
    "$$\n",
    "  \\text{8. Interpretacjia geometryczna: } \\\\\n",
    "$$\n",
    "$$\n",
    "  \\text{Pohodna w punkcie } x_0 \\text{ opisuje poziom nachylenia stycznej w tym punkcie do osi OX.} \\\\ \n",
    "$$\n",
    "$$\n",
    "  f'(x_0) = \\tan(\\theta) \\text{ gdzie } \\theta \\text{ jest nachyleniem. } \\\\\n",
    "$$\n",
    "$$\n",
    "  \\text{Mówi o poziomie nachylanie stycznej w punkcjie.}\n",
    "$$"
   ]
  },
  {
   "cell_type": "markdown",
   "id": "46bce443",
   "metadata": {},
   "source": [
    "$$\n",
    "  \\text{9. Interpretacjia fizyczna: } \\\\\n",
    "$$\n",
    "$$\n",
    "  \\text{Opisuje prędkość zmian wielkośćwzględem x. Dla bardzo małych zmian x. Przykładowo prędkość chwilowa.} \\\\\n",
    "$$\n",
    "$$\n",
    "  \\text{Pochodna predkości chwilowej daje nam przyśpieszenie.} \\\\\n",
    "$$\n",
    "<!-- $$\n",
    "  \\text{10. Gradienty: } \\\\\n",
    "$$\n",
    "$$\n",
    "  \\nabla f(x, y, z, ...) = \\left(\\frac{df}{dx}, \\frac{df}{dy}, \\frac{df}{dz}, ... \\right) \\\\\n",
    "$$\n",
    "$$\n",
    "  \\textcolor{blue}{\\text{Gradient wskazuje nam kierunek w którym zmiany zachodzą najszybciej}}\n",
    "$$ -->"
   ]
  },
  {
   "cell_type": "code",
   "execution_count": null,
   "id": "d967278f",
   "metadata": {},
   "outputs": [],
   "source": [
    "import numpy as np\n",
    "import matplotlib.pyplot as plt\n",
    "\n",
    "def f(x):\n",
    "    return x**3 - 4*x\n",
    "\n",
    "def f_styczna(x, x_0):\n",
    "    return (3*x_0**2 - 4)*(x - x_0) + f(x_0)\n",
    "\n",
    "x = np.linspace(-6, 6, 200)\n",
    "x_0 = -1.5\n",
    "\n",
    "y = f(x)\n",
    "y_styczna = f_styczna(x, x_0)\n",
    "\n",
    "slope = 3*x_0**2 - 4\n",
    "x_intercept = x_0 - f(x_0)/slope\n",
    "y_intercept = 0\n",
    "theta = np.arctan(slope)\n",
    "theta_deg = np.degrees(theta)\n",
    "angle_radius = 0.5\n",
    "arc = np.linspace(0, theta, 30)\n",
    "\n",
    "fig, ax = plt.subplots(figsize=(8,5))\n",
    "ax.plot(x, y, label=\"f(x) = x³ - 4x\", linewidth=2)\n",
    "ax.plot(x, y_styczna, \"--\", label=\"styczna\", linewidth=2)\n",
    "ax.scatter(x_0, f(x_0), color='red', zorder=5, s=100)\n",
    "ax.axhline(0, color='black', linewidth=2)\n",
    "ax.plot(x_intercept + angle_radius*np.cos(arc), y_intercept + angle_radius*np.sin(arc), color='green', linewidth=2)\n",
    "ax.text(x_intercept + 0.6, y_intercept + 0.1, f\"{theta_deg:.1f}°\", color='green', fontsize=12)\n",
    "\n",
    "ax.set_title(\"Interpretacja Geometryczna Pochodnej\", fontsize=14, fontweight='bold')\n",
    "ax.set_xlabel(\"x\", fontsize=12)\n",
    "ax.set_ylabel(\"f(x)\", fontsize=12)\n",
    "ax.set_ylim(-10, 10)\n",
    "ax.grid(True, alpha=0.3)\n",
    "ax.legend(fontsize=11)\n",
    "plt.tight_layout()\n",
    "plt.show()\n"
   ]
  },
  {
   "cell_type": "code",
   "execution_count": null,
   "id": "11136f23",
   "metadata": {},
   "outputs": [],
   "source": [
    "import numpy as np\n",
    "import matplotlib.pyplot as plt\n",
    "\n",
    "def distance(x):\n",
    "    return (1/20)*x**3 - 4*x + 20\n",
    "\n",
    "def velocity(x):\n",
    "    return (3/20)*x**2 - 4\n",
    "\n",
    "def acceleration(x):\n",
    "    return (6/20)*x\n",
    "\n",
    "time = np.linspace(0, 20, 200)\n",
    "\n",
    "distance_vals = distance(time)\n",
    "velocity_vals = velocity(time)\n",
    "acceleration_vals = acceleration(time)\n",
    "\n",
    "fig, ax = plt.subplots(figsize=(8,5))\n",
    "ax.plot(time, distance_vals, label=\"Droga (distance)\", linewidth=2)\n",
    "ax.plot(time, velocity_vals, \"--\", label=\"Prędkość (velocity)\", linewidth=2)\n",
    "ax.plot(time, acceleration_vals, \".\", label=\"Przyśpieszenie (acceleration)\", markersize=8)\n",
    "\n",
    "ax.set_title(\"Interpretacja Fizyczna Pochodnej\", fontsize=14, fontweight='bold')\n",
    "ax.set_xlabel(\"Czas (time)\", fontsize=12)\n",
    "ax.set_ylabel(\"Wartość\", fontsize=12)\n",
    "ax.set_ylim(0, 50)\n",
    "ax.grid(True, alpha=0.3)\n",
    "ax.legend(fontsize=11)\n",
    "plt.tight_layout()\n",
    "plt.show()"
   ]
  },
  {
   "cell_type": "markdown",
   "id": "8098e9fa-070b-475d-9d44-ab02f13add6a",
   "metadata": {},
   "source": [
    "#### Zadanie 2 [ Ruslan]\n",
    "\n",
    "Omów podstawowe wzory związane z całką nieoznaczoną. Jaki jest związek całki nieoznaczonej z całką oznaczoną? \n",
    "Jaka jest geometryczna interpretacja całki oznaczonej?"
   ]
  },
  {
   "cell_type": "markdown",
   "id": "994a0fcb",
   "metadata": {},
   "source": [
    "$$\n",
    "  \\text{1. Definicja całki nieoznaczonej: } \\\\\n",
    "$$\n",
    "$$\n",
    "  \\int f(x) \\, dx = F(x) + C \\\\\n",
    "$$\n",
    "$$\n",
    "  \\text{gdzie } F'(x) = f(x) \\text{ oraz } C \\text{ jest stałą całkowania}\n",
    "$$"
   ]
  },
  {
   "cell_type": "markdown",
   "id": "f9373653",
   "metadata": {},
   "source": [
    "$$\n",
    "  \\text{2. Podstawowe wzory całkowania: } \\\\\n",
    "$$\n",
    "$$\n",
    "  \\int x^n \\, dx = \\frac{x^{n+1}}{n+1} + C, \\quad n \\neq -1 \\\\\n",
    "$$\n",
    "$$\n",
    "  \\int \\frac{1}{x} \\, dx = \\ln|x| + C \\\\\n",
    "$$\n",
    "$$\n",
    "  \\int e^{ax} \\, dx = \\frac{1}{a}e^{ax} + C \\\\\n",
    "$$\n",
    "$$\n",
    "  \\int a^x \\, dx = \\frac{a^x}{\\ln(a)} + C \\\\\n",
    "$$"
   ]
  },
  {
   "cell_type": "markdown",
   "id": "d17892d5",
   "metadata": {},
   "source": [
    "$$\n",
    "  \\text{3. Wzory całkowania funkcji trygonometrycznych: } \\\\\n",
    "$$\n",
    "$$\n",
    "  \\int \\sin(x) \\, dx = -\\cos(x) + C \\\\\n",
    "$$\n",
    "$$\n",
    "  \\int \\cos(x) \\, dx = \\sin(x) + C \\\\\n",
    "$$\n",
    "$$\n",
    "  \\int \\tan(x) \\, dx = -\\ln|\\cos(x)| + C \\\\\n",
    "$$\n",
    "$$\n",
    "  \\int \\cot(x) \\, dx = \\ln|\\sin(x)| + C \\\\\n",
    "$$\n",
    "$$\n",
    "  \\int \\frac{1}{\\cos^2(x)} \\, dx = \\tan(x) + C \\\\\n",
    "$$\n",
    "$$\n",
    "  \\int \\frac{1}{\\sin^2(x)} \\, dx = -\\cot(x) + C \\\\\n",
    "$$\n",
    "$$\n",
    "  \\int \\frac{1}{\\sqrt{1-x^2}} \\, dx = \\sin^{-1}(x) + C \\\\\n",
    "$$\n",
    "$$\n",
    "  \\int \\frac{1}{1+x^2} \\, dx = \\tan^{-1}(x) + C \\\\\n",
    "$$"
   ]
  },
  {
   "cell_type": "markdown",
   "id": "06c1ce16",
   "metadata": {},
   "source": [
    "$$\n",
    "  \\text{4. Metody całkowania: } \\\\\n",
    "$$\n",
    "$$\n",
    "  \\textcolor{blue}{\\text{a) Przez podstawienie: }} \\\\\n",
    "$$\n",
    "$$\n",
    "  \\int f(g(x)) \\cdot g'(x) \\, dx = \\int f(u) \\, du, \\quad \\text{gdzie } u = g(x) \\\\\n",
    "$$\n",
    "$$\n",
    "  \\textcolor{blue}{\\text{b) Przez części: }} \\\\\n",
    "$$\n",
    "$$\n",
    "  \\int u \\, dv = uv - \\int v \\, du \\\\\n",
    "$$"
   ]
  },
  {
   "cell_type": "markdown",
   "id": "bbd21356",
   "metadata": {},
   "source": [
    "$$\n",
    "  \\text{5. Całka oznaczona - Definicja: } \\\\\n",
    "$$\n",
    "$$\n",
    "  \\int_a^b f(x) \\, dx = \\lim_{n \\to \\infty} \\sum_{i=1}^{n} f(x_i) \\cdot \\Delta x \\\\\n",
    "$$\n",
    "$$\n",
    "  \\text{gdzie } \\Delta x = \\frac{b-a}{n} \\text{ oraz } x_i \\in [x_{i-1}, x_i]\n",
    "$$"
   ]
  },
  {
   "cell_type": "markdown",
   "id": "d7672e83",
   "metadata": {},
   "source": [
    "$$\n",
    "  \\text{6. Twierdzenie Newtona-Leibniza: } \\\\\n",
    "$$\n",
    "$$\n",
    "  \\int_a^b f(x) \\, dx = F(b) - F(a) = \\left[F(x)\\right]_a^b \\\\\n",
    "$$\n",
    "$$\n",
    "  \\text{gdzie } F(x) \\text{ jest funkcją pierwotną } f(x), \\text{ czyli } F'(x) = f(x) \\\\\n",
    "$$\n",
    "$$\n",
    "  \\textcolor{red}{\\text{*To twierdzenie łączy całkę nieoznaczoną z całką oznaczoną*}} \\\\\n",
    "$$"
   ]
  },
  {
   "cell_type": "markdown",
   "id": "365f0d45",
   "metadata": {},
   "source": [
    "$$\n",
    "  \\text{7. Własności całki oznaczonej: } \\\\\n",
    "$$\n",
    "$$\n",
    "  \\int_a^b f(x) \\, dx = -\\int_b^a f(x) \\, dx \\\\\n",
    "$$\n",
    "$$\n",
    "  \\int_a^a f(x) \\, dx = 0 \\\\\n",
    "$$\n",
    "$$\n",
    "  \\int_a^b [f(x) + g(x)] \\, dx = \\int_a^b f(x) \\, dx + \\int_a^b g(x) \\, dx \\\\\n",
    "$$\n",
    "$$\n",
    "  \\int_a^b c \\cdot f(x) \\, dx = c \\cdot \\int_a^b f(x) \\, dx \\\\\n",
    "$$\n",
    "$$\n",
    "  \\int_a^b f(x) \\, dx = \\int_a^c f(x) \\, dx + \\int_c^b f(x) \\, dx, \\quad a < c < b \\\\\n",
    "$$"
   ]
  },
  {
   "cell_type": "markdown",
   "id": "84c6ba7d",
   "metadata": {},
   "source": [
    "$$\n",
    "  \\text{8. Interpretacja geometryczna całki oznaczonej: } \\\\\n",
    "$$\n",
    "$$\n",
    "  \\text{Całka oznaczona } \\int_a^b f(x) \\, dx \\text{ reprezentuje pole powierzchni pod krzywą } f(x) \\\\\n",
    "$$\n",
    "$$\n",
    "  \\text{pomiędzy punktami } a \\text{ i } b \\text{ na osi OX.} \\\\\n",
    "$$\n",
    "$$\n",
    "  \\text{Jeśli } f(x) \\geq 0, \\text{ pole jest dodatnie. Jeśli } f(x) < 0, \\text{ pole jest ujemne.}\n",
    "$$"
   ]
  },
  {
   "cell_type": "code",
   "execution_count": 1,
   "id": "18827a37",
   "metadata": {},
   "outputs": [
    {
     "data": {
      "image/png": "[encoded data removed]",
      "text/plain": [
       "<Figure size 800x500 with 1 Axes>"
      ]
     },
     "metadata": {},
     "output_type": "display_data"
    }
   ],
   "source": [
    "import numpy as np\n",
    "import matplotlib.pyplot as plt\n",
    "\n",
    "def f(x):\n",
    "    return 0.5*x**2 - 2*x + 3\n",
    "\n",
    "a, b = 1, 5\n",
    "x = np.linspace(0, 6, 200)\n",
    "x_fill = np.linspace(a, b, 100)\n",
    "y = f(x)\n",
    "y_fill = f(x_fill)\n",
    "\n",
    "integral_value = (0.5/3)*(b**3 - a**3) - (b**2 - a**2) + 3*(b - a)\n",
    "\n",
    "fig, ax = plt.subplots(figsize=(8,5))\n",
    "ax.plot(x, y, label=\"f(x) = 0.5x² - 2x + 3\", linewidth=2.5, color='darkblue')\n",
    "ax.fill_between(x_fill, 0, y_fill, alpha=0.4, color='blue', label=f'Pole = {integral_value:.2f}')\n",
    "ax.axvline(a, color='red', linestyle='--', linewidth=2, alpha=0.7)\n",
    "ax.axvline(b, color='red', linestyle='--', linewidth=2, alpha=0.7)\n",
    "ax.axhline(0, color='black', linewidth=1.5)\n",
    "ax.text(a, -0.5, f'a={a}', ha='center', fontsize=11, fontweight='bold')\n",
    "ax.text(b, -0.5, f'b={b}', ha='center', fontsize=11, fontweight='bold')\n",
    "\n",
    "ax.set_title(\"Interpretacja Geometryczna Całki Oznaczonej\", fontsize=14, fontweight='bold')\n",
    "ax.set_xlabel(\"x\", fontsize=12)\n",
    "ax.set_ylabel(\"f(x)\", fontsize=12)\n",
    "ax.set_ylim(-1, 6)\n",
    "ax.grid(True, alpha=0.3)\n",
    "ax.legend(fontsize=11)\n",
    "plt.tight_layout()\n",
    "plt.show()"
   ]
  },
  {
   "cell_type": "code",
   "execution_count": 2,
   "id": "f98526d2",
   "metadata": {},
   "outputs": [
    {
     "data": {
      "image/png": "[encoded data removed]",
      "text/plain": [
       "<Figure size 1000x500 with 1 Axes>"
      ]
     },
     "metadata": {},
     "output_type": "display_data"
    }
   ],
   "source": [
    "import numpy as np\n",
    "import matplotlib.pyplot as plt\n",
    "\n",
    "def f(x):\n",
    "    return np.sin(x) + 1\n",
    "\n",
    "a, b = 0, 2*np.pi\n",
    "x = np.linspace(-0.5, 2*np.pi + 0.5, 300)\n",
    "x_fill = np.linspace(a, b, 100)\n",
    "y = f(x)\n",
    "y_fill = f(x_fill)\n",
    "\n",
    "fig, ax = plt.subplots(figsize=(10,5))\n",
    "ax.plot(x, y, label=\"f(x) = sin(x) + 1\", linewidth=2.5, color='darkblue')\n",
    "ax.fill_between(x_fill, 0, y_fill, alpha=0.4, color='cyan', label='Pole pod krzywą')\n",
    "ax.axvline(a, color='red', linestyle='--', linewidth=2, alpha=0.7)\n",
    "ax.axvline(b, color='red', linestyle='--', linewidth=2, alpha=0.7)\n",
    "ax.axhline(0, color='black', linewidth=1.5)\n",
    "ax.text(a, -0.3, 'a=0', ha='center', fontsize=11, fontweight='bold')\n",
    "ax.text(b, -0.3, 'b=2π', ha='center', fontsize=11, fontweight='bold')\n",
    "\n",
    "# Dodanie prostokątów (suma Riemanna) dla wizualizacji\n",
    "n_rectangles = 12\n",
    "x_rect = np.linspace(a, b, n_rectangles+1)\n",
    "width = (b-a)/n_rectangles\n",
    "for i in range(n_rectangles):\n",
    "    height = f(x_rect[i])\n",
    "    ax.bar(x_rect[i], height, width=width, align='edge', alpha=0.3, \n",
    "           edgecolor='red', facecolor='none', linewidth=2)\n",
    "\n",
    "ax.set_title(\"Wizualizacja Całki jako Sumy Riemanna\", fontsize=14, fontweight='bold')\n",
    "ax.set_xlabel(\"x\", fontsize=12)\n",
    "ax.set_ylabel(\"f(x)\", fontsize=12)\n",
    "ax.set_ylim(-0.5, 2.5)\n",
    "ax.grid(True, alpha=0.3)\n",
    "ax.legend(fontsize=11)\n",
    "plt.tight_layout()\n",
    "plt.show()"
   ]
  },
  {
   "cell_type": "markdown",
   "id": "10767bbc",
   "metadata": {},
   "source": [
    "$$\n",
    "  \\text{9. Związek całki nieoznaczonej z całką oznaczoną: } \\\\\n",
    "$$\n",
    "$$\n",
    "  \\text{Całka nieoznaczona: } \\int f(x) \\, dx = F(x) + C \\text{ (rodzina funkcji)} \\\\\n",
    "$$\n",
    "$$\n",
    "  \\text{Całka oznaczona: } \\int_a^b f(x) \\, dx = F(b) - F(a) \\text{ (wartość liczbowa)} \\\\\n",
    "$$\n",
    "$$\n",
    "  \\textcolor{blue}{\\text{Całka nieoznaczona to \"antypochodna\" funkcji.}} \\\\\n",
    "$$\n",
    "$$\n",
    "  \\textcolor{blue}{\\text{Całka oznaczona używa całki nieoznaczonej do obliczenia pola.}}\n",
    "$$"
   ]
  }
 ],
 "metadata": {
  "kernelspec": {
   "display_name": "Python 3",
   "language": "python",
   "name": "python3"
  },
  "language_info": {
   "codemirror_mode": {
    "name": "ipython",
    "version": 3
   },
   "file_extension": ".py",
   "mimetype": "text/x-python",
   "name": "python",
   "nbconvert_exporter": "python",
   "pygments_lexer": "ipython3",
   "version": "3.12.11"
  },
  "toc": {
   "base_numbering": 1,
   "nav_menu": {},
   "number_sections": false,
   "sideBar": true,
   "skip_h1_title": false,
   "title_cell": "Table of Contents",
   "title_sidebar": "Contents",
   "toc_cell": false,
   "toc_position": {},
   "toc_section_display": true,
   "toc_window_display": true
  }
 },
 "nbformat": 4,
 "nbformat_minor": 5
}
