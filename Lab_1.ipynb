{
 "cells": [
  {
   "cell_type": "markdown",
   "id": "be5da811-decc-479d-9ef5-c00579ef8b05",
   "metadata": {},
   "source": [
    "# Laboratoria 1 "
   ]
  },
  {
   "cell_type": "markdown",
   "id": "c14d862a-fd3c-4dfc-afe4-42950a794389",
   "metadata": {},
   "source": [
    "#### Zadanie 1 [Daniel]\n",
    "\n",
    "Omów podstawowe wzory rachunku różniczkowego,  w szczególności wzór na pochodną funkcji złożonej.\n",
    "Jaka jest fizyczna i geometryczna interpretacja pochodnej?"
   ]
  },
  {
   "cell_type": "markdown",
   "id": "092bbcf2",
   "metadata": {},
   "source": [
    "$$\n",
    "  \\text{1. Definicja pochodnej funkcji: } \\\\\n",
    "    f'(x) = \\lim_{\\Delta x \\to 0} \\frac{f(x + \\Delta x) - f(x) }{\\Delta x} \\\\\n",
    "$$\n",
    "$$\n",
    "  \\text{2. Zapis różnicowy} \\quad \\\\\n",
    "  f'(x) = \\frac{df}{dx}\n",
    "$$\n",
    "$$\n",
    "  \\text{3. Najważniejsze wzory: } \\\\\n",
    "  \\frac{d}{dx}x^n = n \\cdot x^{n - 1} \\\\\n",
    "  \\frac{d}{dx}e^{a \\cdot x} = a \\cdot e^{a \\cdot x} \\\\\n",
    "  \\frac{d}{dx}a^x = a^x \\cdot ln(a) \\\\\n",
    "  \\frac{d}{dx}\\ln(x) = \\frac{1}{x} \\\\\n",
    "  \\frac{d}{dx}\\log_a(x) = \\frac{1}{x \\cdot \\ln(a)}\n",
    "$$\n",
    "$$\n",
    "  \\text{4. Najważniejsze wzory trygonometryczne: } \\\\\n",
    "  \\frac{d}{dx}\\sin(x) = \\cos(x) \\\\\n",
    "  \\frac{d}{dx}\\cos(x) = -\\sin(x) \\\\\n",
    "  \\frac{d}{dx}\\csc(x) = - \\csc(x) \\cot(x) \\\\\n",
    "  \\frac{d}{dx}\\sec(x) = \\sec(x) \\tan(x) \\\\\n",
    "  \\frac{d}{dx}\\tan(x) = \\frac{1}{\\cos^2(x)} = 1 + \\tan^2(x) \\\\\n",
    "  \\frac{d}{dx}\\cot(x) = \\frac{-1}{\\sin^2(x)} = - (1 + \\cot^2(x)) \\\\\n",
    "  \\frac{d}{dx}\\sin^{-1}(x) = \\frac{1}{\\sqrt{1 - x^2}} \\\\\n",
    "  \\frac{d}{dx}\\cos^{-1}(x) = \\frac{-1}{\\sqrt{1 - x^2}} \\\\\n",
    "  \\frac{d}{dx}\\csc^{-1}(x) = -\\frac{1}{|x|\\sqrt{x^2 - 1}} \\\\\n",
    "  \\frac{d}{dx}\\sec^{-1}(x) = \\frac{1}{|x|\\sqrt{x^2 - 1}} \\\\\n",
    "  \\frac{d}{dx}\\tan^{-1}(x) = \\frac{1}{1 + x^2} \\\\\n",
    "  \\frac{d}{dx}\\cot^{-1}(x) = \\frac{-1}{1 + x^2} \\\\\n",
    "$$\n",
    "$$\n",
    "  \\text{5. Pohodna funckji złożonej: } \\\\\n",
    "  \\frac{d}{dx}f(g(x)) = (f \\circ g)(x) = f'(g(x)) \\cdot g'(x) \\\\\n",
    "  \\textcolor{red}{\n",
    "  \\text{Wynika to z: } \\\\\n",
    "  \\frac{df}{dx} = \\frac{df}{dg} \\cdot \\frac{dg}{dx} \\\\\n",
    "  }\n",
    "$$\n",
    "$$\n",
    "  \\text{6. Pohodna mnożenia funkcji: } \\\\\n",
    "  \\frac{d}{dx}f(x) \\cdot g(x) = f'(x) \\cdot g(x) + f(x) \\cdot g'(x) \\\\\n",
    "  \\frac{d}{dx}(f_1 \\cdot f_2 \\cdot ... \\cdot f_n) = \\sum_{i=1}^{n}f_1 \\cdot ... \\cdot f'_i \\cdot ... f_n \\\\\n",
    "$$\n",
    "$$\n",
    "  \\text{7. Pohodna dzielenia funkcji: } \\\\\n",
    "  \\frac{d}{dx}\\left(\\frac{f(x)}{g(x)}\\right) = \\frac{f'(x) \\cdot g(x) - f(x) \\cdot g'(x)}{g(x)^2}, \\text{ g(x) != 0} \\\\\n",
    "$$\n",
    "$$\n",
    "  \\text{8. Gradienty: } \\\\\n",
    "  \\nabla f(x, y, z) = \\left(\\frac{df}{dx}, \\frac{df}{dy}, \\frac{df}{dz} \\right) \\\\\n",
    "$$\n",
    "$$\n",
    "  \\text{9. Interpretacjia geometryczna} \\\\\n",
    "  \\text{Pohodna w punkcie } x_0 \\text{ opisuje poziom nachylenia do osi OX.} \\\\ \n",
    "  f'(x_0) = \\tg(\\theta) \\text{ gdzie } \\theta \\text{ jest nachyleniem. }\n",
    "$$\n"
   ]
  },
  {
   "cell_type": "markdown",
   "id": "8098e9fa-070b-475d-9d44-ab02f13add6a",
   "metadata": {},
   "source": [
    "#### Zadanie 2 [Pan Ruslan]\n",
    "\n",
    "Omów podstawowe wzory związane z całką nieoznaczoną. Jaki jest związek całki nieoznaczonej z całką oznaczoną? \n",
    "Jaka jest geometryczna interpretacja całki oznaczonej?"
   ]
  }
 ],
 "metadata": {
  "kernelspec": {
   "display_name": "Python 3 (ipykernel)",
   "language": "python",
   "name": "python3"
  },
  "language_info": {
   "codemirror_mode": {
    "name": "ipython",
    "version": 3
   },
   "file_extension": ".py",
   "mimetype": "text/x-python",
   "name": "python",
   "nbconvert_exporter": "python",
   "pygments_lexer": "ipython3",
   "version": "3.11.3"
  },
  "toc": {
   "base_numbering": 1,
   "nav_menu": {},
   "number_sections": false,
   "sideBar": true,
   "skip_h1_title": false,
   "title_cell": "Table of Contents",
   "title_sidebar": "Contents",
   "toc_cell": false,
   "toc_position": {},
   "toc_section_display": true,
   "toc_window_display": true
  }
 },
 "nbformat": 4,
 "nbformat_minor": 5
}
