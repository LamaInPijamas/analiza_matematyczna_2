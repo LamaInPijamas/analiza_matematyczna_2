{
 "cells": [
  {
   "cell_type": "markdown",
   "id": "be5da811-decc-479d-9ef5-c00579ef8b05",
   "metadata": {},
   "source": [
    "# Laboratoria 1 "
   ]
  },
  {
   "cell_type": "markdown",
   "id": "c14d862a-fd3c-4dfc-afe4-42950a794389",
   "metadata": {},
   "source": [
    "#### Zadanie 1 [Daniel]\n",
    "\n",
    "Omów podstawowe wzory rachunku różniczkowego,  w szczególności wzór na pochodną funkcji złożonej.\n",
    "Jaka jest fizyczna i geometryczna interpretacja pochodnej?"
   ]
  },
  {
   "cell_type": "markdown",
   "id": "092bbcf2",
   "metadata": {},
   "source": [
    "$$\n",
    "  \\text{1. Definicja pochodnej funkcji: } \\\\\n",
    "$$\n",
    "$$\n",
    "  f'(x) = \\lim_{\\Delta x \\to 0} \\frac{f(x + \\Delta x) - f(x) }{\\Delta x} \\\\\n",
    "$$"
   ]
  },
  {
   "cell_type": "markdown",
   "id": "b7707b4a",
   "metadata": {},
   "source": [
    "$$\n",
    "  \\text{2. Zapis różnicowy} \\quad \\\\\n",
    "$$\n",
    "$$\n",
    "  f'(x) = \\frac{df}{dx}\n",
    "$$"
   ]
  },
  {
   "cell_type": "markdown",
   "id": "cfe8f198",
   "metadata": {},
   "source": [
    "$$\n",
    "  \\text{3. Najważniejsze wzory: } \\\\\n",
    "$$\n",
    "$$\n",
    "  \\frac{d}{dx}x^n = n \\cdot x^{n - 1} \\\\\n",
    "$$\n",
    "$$\n",
    "  \\frac{d}{dx}e^{a \\cdot x} = a \\cdot e^{a \\cdot x} \\\\\n",
    "$$\n",
    "$$\n",
    "  \\frac{d}{dx}a^x = a^x \\cdot ln(a) \\\\\n",
    "$$\n",
    "$$\n",
    "  \\frac{d}{dx}\\ln(x) = \\frac{1}{x} \\\\\n",
    "$$\n",
    "$$\n",
    "  \\frac{d}{dx}\\log_a(x) = \\frac{1}{x \\cdot \\ln(a)}\n",
    "$$"
   ]
  },
  {
   "cell_type": "markdown",
   "id": "8ccabbc8",
   "metadata": {},
   "source": [
    "$$\n",
    "  \\text{4. Najważniejsze wzory trygonometryczne: } \\\\\n",
    "$$\n",
    "$$\n",
    "  \\frac{d}{dx}\\sin(x) = \\cos(x) \\\\\n",
    "$$\n",
    "$$\n",
    "  \\frac{d}{dx}\\cos(x) = -\\sin(x) \\\\\n",
    "$$\n",
    "$$\n",
    "  \\frac{d}{dx}\\csc(x) = - \\csc(x) \\cot(x) \\\\\n",
    "$$\n",
    "$$\n",
    "  \\frac{d}{dx}\\sec(x) = \\sec(x) \\tan(x) \\\\\n",
    "$$\n",
    "$$\n",
    "  \\frac{d}{dx}\\tan(x) = \\frac{1}{\\cos^2(x)} = 1 + \\tan^2(x) \\\\\n",
    "$$\n",
    "$$\n",
    "  \\frac{d}{dx}\\cot(x) = \\frac{-1}{\\sin^2(x)} = - (1 + \\cot^2(x)) \\\\\n",
    "$$\n",
    "$$\n",
    "  \\frac{d}{dx}\\sin^{-1}(x) = \\frac{1}{\\sqrt{1 - x^2}} \\\\\n",
    "$$\n",
    "$$\n",
    "  \\frac{d}{dx}\\cos^{-1}(x) = \\frac{-1}{\\sqrt{1 - x^2}} \\\\\n",
    "$$\n",
    "$$\n",
    "  \\frac{d}{dx}\\csc^{-1}(x) = -\\frac{1}{|x|\\sqrt{x^2 - 1}} \\\\\n",
    "$$\n",
    "$$\n",
    "  \\frac{d}{dx}\\sec^{-1}(x) = \\frac{1}{|x|\\sqrt{x^2 - 1}} \\\\\n",
    "$$\n",
    "$$\n",
    "  \\frac{d}{dx}\\tan^{-1}(x) = \\frac{1}{1 + x^2} \\\\\n",
    "$$\n",
    "$$\n",
    "  \\frac{d}{dx}\\cot^{-1}(x) = \\frac{-1}{1 + x^2} \\\\\n",
    "$$"
   ]
  },
  {
   "cell_type": "markdown",
   "id": "5779ca0d",
   "metadata": {},
   "source": [
    "$$\n",
    "  \\text{5. Pohodna funckji złożonej: } \\\\\n",
    "$$\n",
    "$$\n",
    "  \\frac{d}{dx}f(g(x)) = (f \\circ g)(x) = f'(g(x)) \\cdot g'(x) \\\\\n",
    "$$\n",
    "$$\n",
    "  \\textcolor{red}{\\text{Wynika to z: }} \\\\\n",
    "$$\n",
    "$$\n",
    "  \\textcolor{red}{\\frac{df}{dx} = \\frac{df}{dg} \\cdot \\frac{dg}{dx}} \\\\\n",
    "$$"
   ]
  },
  {
   "cell_type": "markdown",
   "id": "2aff2ca4",
   "metadata": {},
   "source": [
    "$$\n",
    "  \\text{6. Pohodna mnożenia funkcji: } \\\\\n",
    "$$\n",
    "$$\n",
    "  \\frac{d}{dx}f(x) \\cdot g(x) = f'(x) \\cdot g(x) + f(x) \\cdot g'(x) \\\\\n",
    "$$\n",
    "$$\n",
    "  \\frac{d}{dx}(f_1 \\cdot f_2 \\cdot ... \\cdot f_n) = \\sum_{i=1}^{n}f_1 \\cdot ... \\cdot f'_i \\cdot ... f_n \\\\\n",
    "$$"
   ]
  },
  {
   "cell_type": "markdown",
   "id": "eafae02b",
   "metadata": {},
   "source": [
    "$$\n",
    "  \\text{7. Pohodna dzielenia funkcji: } \\\\\n",
    "$$\n",
    "$$\n",
    "  \\frac{d}{dx}\\left(\\frac{f(x)}{g(x)}\\right) = \\frac{f'(x) \\cdot g(x) - f(x) \\cdot g'(x)}{g(x)^2}, \\text{ g(x) != 0} \\\\\n",
    "$$"
   ]
  },
  {
   "cell_type": "markdown",
   "id": "fd4bab71",
   "metadata": {},
   "source": [
    "$$\n",
    "  \\text{8. Interpretacjia geometryczna: } \\\\\n",
    "$$\n",
    "$$\n",
    "  \\text{Pohodna w punkcie } x_0 \\text{ opisuje poziom nachylenia stycznej w tym punkcie do osi OX.} \\\\ \n",
    "$$\n",
    "$$\n",
    "  f'(x_0) = \\tan(\\theta) \\text{ gdzie } \\theta \\text{ jest nachyleniem. } \\\\\n",
    "$$\n",
    "$$\n",
    "  \\text{Mówi o poziomie nachylanie stycznej w punkcjie.}\n",
    "$$"
   ]
  },
  {
   "cell_type": "markdown",
   "id": "46bce443",
   "metadata": {},
   "source": [
    "$$\n",
    "  \\text{9. Interpretacjia fizyczna: } \\\\\n",
    "$$\n",
    "$$\n",
    "  \\text{Opisuje prędkość zmian wielkośćwzględem x. Dla bardzo małych zmian x. Przykładowo prędkość chwilowa.} \\\\\n",
    "$$\n",
    "<!-- $$\n",
    "  \\text{10. Gradienty: } \\\\\n",
    "$$\n",
    "$$\n",
    "  \\nabla f(x, y, z, ...) = \\left(\\frac{df}{dx}, \\frac{df}{dy}, \\frac{df}{dz}, ... \\right) \\\\\n",
    "$$\n",
    "$$\n",
    "  \\textcolor{blue}{\\text{Gradient wskazuje nam kierunek w którym zmiany zachodzą najszybciej}}\n",
    "$$ -->"
   ]
  },
  {
   "cell_type": "code",
   "execution_count": null,
   "id": "d967278f",
   "metadata": {},
   "outputs": [
    {
     "data": {
      "text/html": [
       "<div style='text-align:center;'><img src='data:image/png;base64,iVBORw0KGgoAAAANSUhEUgAAAk4AAAGGCAYAAACNCg6xAAAAOnRFWHRTb2Z0d2FyZQBNYXRwbG90bGliIHZlcnNpb24zLjEwLjYsIGh0dHBzOi8vbWF0cGxvdGxpYi5vcmcvq6yFwwAAAAlwSFlzAAAPYQAAD2EBqD+naQAAecBJREFUeJzt3Xd4FFXbwOHf7qb3hCSEQCD00DtIkSJIVCwgRZoUAZWiIDZQ6SoWsIB8Ir6+oAIvHQsIShERiXSQ3kMgJCEhkF42u/P9sWQlpLCBbGazee7rysXu7JmZZ06G5Mk5Z87RKIqiIIQQQggh7kqrdgBCCCGEEGWFJE5CCCGEEBaSxEkIIYQQwkKSOAkhhBBCWEgSJyGEEEIIC0niJIQQQghhIUmchBBCCCEsJImTEEIIIYSFJHESQgghhLCQJE5CiDJtyZIlaDQaIiMjzds6d+5M586dVYtJCGG/JHESooTl/iLfv39/sfdNT09n+vTp7Nixo+QDK2VXr15l+vTpHD58WO1QSszPP//ME088QcWKFXFycsLPz4+OHTsyd+5ckpOT1Q6vRNjTPSiENTioHYAQ4l/p6enMmDEDoMy3mFy9epUZM2YQGhpK06ZNrXaeZ599lv79++Ps7Gze9ttvv5XoOYxGIyNGjGDJkiU0atSIMWPGEBISQkpKChEREbzzzjv88ssvbNu2rUTPqwZ7ugeFsAZJnIQoB9LS0nB3d7+vYxiNRrKzs3FxcSmhqEqGTqdDp9Pl2ebk5FSi5/joo49YsmQJr7zyCnPnzkWj0Zg/Gz9+PDExMXz33Xcles6yoiTuLSHKFEUIUaIWL16sAMq+ffvM24YOHaq4u7srV65cUZ566inF3d1d8ff3V1599VUlJydHURRFuXjxogLk+5o2bZr5OCdPnlR69+6t+Pr6Ks7OzkqLFi2UH3/8scDz79ixQxk9erQSEBCg+Pj4KIqiKNOmTVMA5eTJk0rfvn0VT09Pxc/PT3n55ZeVjIyMPMcBlLFjxypLly5V6tevrzg4OCjr169XFEVRrly5ogwfPlwJDAxUnJyclPr16yvffPONed/ff/+9wGtZvHixoiiKsnPnTqVPnz5KSEiI4uTkpFSpUkWZMGGCkp6enq8+c2P19/dXXFxclDp16ihvvfVWvuu9ePGieVunTp2UTp06md9nZWUpU6ZMUZo3b654eXkpbm5uSocOHZTt27ff9fuZlpam+Pj4KA0aNDB/ryz1/fffK82bN1dcXFwUX19f5ZlnnlGioqLylVu1apW5XIUKFZRBgwYpV65cyVMm9x66dOmS0qNHD8Xd3V0JDg5WvvjiC0VRFOWff/5RunTpori5uSlVq1ZVli1blu88N27cUMaPH69UqVJFcXJyUmrWrKl88MEHisFgUBTl7vdgbgznzp1THn30UcXDw0N56qmnlKlTpyoODg7KtWvX8p1z1KhRire3d57765dfflE6duyoeHh4KJ6enkrLli3N8eZ+Pwv6uv17mnt/rl+/XmnQoIH5Pty0aVOe80dGRiqjR49W6tSpo7i4uCh+fn5Knz598twvQhSHtDgJUUoMBgPh4eG0adOGOXPmsHXrVubOnUvNmjUZPXo0AQEBfPnll4wePZpevXrx9NNPA9C4cWMAjh8/Tvv27alcuTKTJk3C3d2dVatW0bNnT9auXUuvXr3ynG/MmDEEBAQwdepU0tLS8nzWr18/QkNDmT17Nn///Tfz5s3jxo0b+VpNtm/fzqpVqxg3bhz+/v6EhoYSFxfHAw88gEajYdy4cQQEBLBp0yZGjBhBcnIyEyZMoF69esycOZOpU6fy/PPP8+CDDwLQrl07AFavXk16ejqjR4+mQoUK7N27l/nz53PlyhVWr15tPv8///zDgw8+iKOjI88//zyhoaGcP3+en3/+mffee8/iuk9OTuY///kPAwYMYNSoUaSkpPDNN98QHh7O3r17i+xK3LVrFzdv3uS1117L17JVlPfee48pU6bQr18/Ro4cSXx8PPPnz6djx44cOnQIHx8fwDQmbvjw4bRq1YrZs2cTFxfH559/zl9//ZWnHJjuoUcffZSOHTvy0UcfsWzZMsaNG4e7uztvv/02gwYN4umnn2bhwoUMGTKEtm3bUr16dcDUBdepUyeio6N54YUXqFq1Krt372by5MnExMTw2Wef3fUeBMjJySE8PJwOHTowZ84c3NzcaNu2LTNnzmTlypWMGzfOXDY7O5s1a9bQu3dvc0vlkiVLeO6552jQoAGTJ0/Gx8eHQ4cOsXnzZgYOHEjHjh35/vvv89TlpUuXeOeddwgMDMz3vVm3bh1jxozB09OTefPm0bt3b6KioqhQoQIA+/btY/fu3fTv358qVaoQGRnJl19+SefOnTlx4gRubm4Wf0+FAKTFSYiSVliLE6DMnDkzT9lmzZopLVq0ML+Pj4/P18qUq2vXrkqjRo2UzMxM8zaj0ai0a9dOqV27dr7zd+jQIV8LSW6L05NPPpln+5gxYxRAOXLkiHkboGi1WuX48eN5yo4YMUKpVKmSkpCQkGd7//79FW9vb3Or0b59+/K0Mt2uoJal2bNnKxqNRrl06ZJ5W8eOHRVPT88823Kv+87rLarFKScnR8nKyspzjBs3bigVK1ZUnnvuuXyx3O7zzz9XAOWHH37Isz0nJ0eJj4/P85UbV2RkpKLT6ZT33nsvzz5Hjx5VHBwczNuzs7OVwMBApWHDhnlaZDZs2KAAytSpU83bcu+h999/P881uLq6KhqNRlmxYoV5+6lTp/LdR7NmzVLc3d2VM2fO5Ilp0qRJik6nM7eEFXUP5sYwadKkfJ+1bdtWadOmTZ5t69atUwDl999/VxRFUW7evKl4enoqbdq0ydfCefv39HYZGRlKixYtlODgYCUmJsa8HVCcnJyUc+fOmbcdOXJEAZT58+ebtxV0r0VERCiA8t133xV4TiGKIk/VCVGKXnzxxTzvH3zwQS5cuHDX/RITE9m+fTv9+vUjJSWFhIQEEhISuH79OuHh4Zw9e5bo6Og8+4waNarQFpKxY8fmef/SSy8B8Msvv+TZ3qlTJ+rXr29+rygKa9eu5YknnkBRFHMcCQkJhIeHk5SUxMGDB+96Pa6urubXaWlpJCQk0K5dOxRF4dChQwDEx8ezc+dOnnvuOapWrZpn/9vHGFlCp9OZxz0ZjUYSExPJycmhZcuWd40392k5Dw+PPNuPHj1KQEBAnq/r168DsG7dOoxGI/369ctTR0FBQdSuXZvff/8dgP3793Pt2jXGjBmTZ+xYjx49CAsLY+PGjfniGTlypPm1j48PdevWxd3dnX79+pm3161bFx8fnzz31urVq3nwwQfx9fXNE1O3bt0wGAzs3LnToroEGD16dL5tQ4YMYc+ePZw/f968bdmyZYSEhNCpUycAtmzZQkpKCpMmTco3Vq6w7+mYMWM4evQoa9euJSgoKM9n3bp1o2bNmub3jRs3xsvLK891336v6fV6rl+/Tq1atfDx8bHoXhXiTtJVJ0QpcXFxISAgIM82X19fbty4cdd9z507h6IoTJkyhSlTphRY5tq1a1SuXNn8PreLpiC1a9fO875mzZpotdo8cyEVdIz4+Hhu3rzJokWLWLRoUaFx3E1UVBRTp07lp59+ynf9SUlJAOZffg0bNrzr8Szx7bffMnfuXE6dOoVerzdvL6qeADw9PQFITU3Ns71WrVps2bIFgO+++y5P99LZs2dRFCVfPedydHQETF1QYEp07hQWFsauXbvybCvoHvL29qZKlSr5Eg9vb+88dXv27Fn++eeffPvnsuT7BuDg4ECVKlXybX/mmWeYMGECy5YtY+rUqSQlJbFhwwZeeeUVc2y5SZWl39OvvvqKxYsX89VXX/HAAw/k+/zOhBry/5/KyMhg9uzZLF68mOjoaBRFMX+We68JURySOAlRSoozPuZORqMRgNdee43w8PACy9SqVSvP+9v/0r6bwv7av/MYuXEMHjyYoUOHFrjP7eNhCmIwGHj44YdJTEzkzTffJCwsDHd3d6Kjoxk2bJj5HCVp6dKlDBs2jJ49e/L6668TGBiITqdj9uzZeVpIChIWFgbAsWPHeOqpp8zbPTw86NatG0C+BMdoNKLRaNi0aVOB3/c7W68sVdg9VNj225MEo9HIww8/zBtvvFFg2Tp16lgUg7OzM1pt/s4KX19fHn/8cXPitGbNGrKyshg8eLBFx73T3r17GT9+PCNHjuT5558vsIwl1/3SSy+xePFiJkyYQNu2bfH29kaj0dC/f3+r3GvC/kniJIQNKSyBqVGjBmBqqcj9ZX0/zp49m6el5dy5cxiNRkJDQ4vcLyAgAE9PTwwGw13jKOxajh49ypkzZ/j2228ZMmSIeXtu602u3Gs+duxYkeexxJo1a6hRowbr1q3LE9e0adPuuu+DDz6It7c3K1asYPLkyQUmDXeqWbMmiqJQvXr1IhOSatWqAXD69GkeeuihPJ+dPn3a/HlJqFmzJqmpqff8fbPEkCFDeOqpp9i3bx/Lli2jWbNmNGjQIE8MYPqe3pno3y4+Pp4+ffrQtGlTFixYcM/xgOl7P3ToUObOnWvelpmZyc2bN+/ruKL8kjFOQtiQ3Cd87vyhHhgYSOfOnfnqq6+IiYnJt198fHyxznPnL6P58+cD8Oijjxa5n06no3fv3qxdu7bAhOb2OHLn9rnzWnJbCW5vFVAUhc8//zxPuYCAADp27Mh///tfoqKi8nx2+76WKOice/bsISIi4q77urm58cYbb3Ds2DEmTZpU4Lnv3Pb000+j0+mYMWNGvs8URTGPhWrZsiWBgYEsXLiQrKwsc5lNmzZx8uRJevToYflF3kW/fv2IiIjg119/zffZzZs3ycnJAQq/By3x6KOP4u/vz4cffsgff/yRr7Wpe/fueHp6Mnv2bDIzM/N8lltPBoOB/v37k52dzdq1a+97Ti6dTpfvezB//nwMBsN9HVeUX9LiJIQNcXV1pX79+qxcuZI6derg5+dHw4YNadiwIQsWLKBDhw40atSIUaNGUaNGDeLi4oiIiODKlSscOXLE4vNcvHiRJ598kkceeYSIiAiWLl3KwIEDadKkyV33/eCDD/j9999p06YNo0aNon79+iQmJnLw4EG2bt1KYmIiYGpd8PHxYeHChXh6euLu7k6bNm0ICwujZs2avPbaa0RHR+Pl5cXatWsLHOs1b948OnToQPPmzXn++eepXr06kZGRbNy4sVhLuTz++OOsW7eOXr160aNHDy5evMjChQupX79+vrFLBZk0aRInT57k448/5rfffqN3795UqVKFGzducPDgQVavXk1gYKB5wHPNmjV59913mTx5MpGRkfTs2RNPT08uXrzI+vXref7553nttddwdHTkww8/ZPjw4XTq1IkBAwaYpyMIDQ3llVdesfga7+b111/np59+4vHHH2fYsGG0aNGCtLQ0jh49ypo1a4iMjMTf37/Ie/BuHB0d6d+/P1988QU6nY4BAwbk+dzLy4tPP/2UkSNH0qpVKwYOHIivry9HjhwhPT2db7/9loULF7J9+3ZefPFF8yD6XBUrVuThhx8u1nU//vjjfP/993h7e1O/fn0iIiLYunWreboCIYqtlJ/iE8LuFTUB5p1ypwe43e7du5UWLVooTk5O+R4LP3/+vDJkyBAlKChIcXR0VCpXrqw8/vjjypo1a4o8/53nO3HihNKnTx/F09NT8fX1VcaNG1foBJgFiYuLU8aOHauEhIQojo6OSlBQkNK1a1dl0aJFecr9+OOP5skzuW1qghMnTijdunVTPDw8FH9/f2XUqFHmR8nvnL7g2LFjSq9evRQfHx/FxcVFqVu3rjJlypR811vUdARGo1F5//33lWrVqinOzs5Ks2bNlA0bNihDhw5VqlWrVuA1FmT9+vXKY489pgQEBCgODg6Kj4+P0qFDB+Xjjz9Wbt68ma/82rVrlQ4dOiju7u6Ku7u7EhYWpowdO1Y5ffp0nnIrV65UmjVrpjg7Oyt+fn5FToB5p06dOikNGjTIt71atWpKjx498mxLSUlRJk+erNSqVUtxcnJS/P39lXbt2ilz5sxRsrOzzeUKuwcLi+F2e/fuVQCle/fuhZb56aeflHbt2imurq6Kl5eX0rp1a+V///ufoij/3qMFfRU0AWZB1z106FDz+xs3bijDhw9X/P39FQ8PDyU8PFw5depUvnJCWEqjKMVs8xZClFnTp09nxowZxMfH4+/vr3Y4JeKbb75h5MiRXL58ucCnvUTpOnLkCE2bNuW7777j2WefVTscIUqcjHESQpRpMTExaDQa/Pz81A5FAF9//TUeHh7mWceFsDcyxkkIUSbFxcWxZs0aFi5cSNu2bWXpDJX9/PPPnDhxgkWLFpmXgRHCHkniJIQok06ePMnrr79O69at+frrr9UOp9x76aWXiIuL47HHHmPGjBlqhyOE1ZSprrqdO3fyxBNPEBwcjEaj4YcffsjzuaIoTJ06lUqVKuHq6kq3bt04e/bsXY+7YMECQkNDcXFxoU2bNuzdu9dKVyCEuqZPn46iKHYxvqlz586kp6ezY8eOQmfoFqUnMjKSjIwMfvjhB/Ns60LYozKVOKWlpdGkSZNCJ0T76KOPmDdvHgsXLmTPnj24u7sTHh6eb76Q261cuZKJEycybdo0Dh48SJMmTQgPD7d4+QEhhBBClB9l9qk6jUbD+vXr6dmzJ2BqbQoODubVV1/ltddeA0zrEFWsWJElS5bQv3//Ao/Tpk0bWrVqxRdffAGYliUICQnhpZdeYtKkSaVyLUIIIYQoG+xmjNPFixeJjY3Ns5yAt7c3bdq0ISIiosDEKTs7mwMHDjB58mTzNq1WS7du3YqcUTgrKyvPLL+5q61XqFDhvpYrEEIIIUTpUxSFlJQUgoOD77qskt0kTrGxsYBpZtnbVaxY0fzZnRISEjAYDAXuc+rUqULPNXv2bBn8KIQQQtgZS+aDs5vEqTRNnjyZiRMnmt8nJSVRtWpVLl68WKKDIvV6Pb///jtdunTB0dGxxI5rr6S+LCd1VTxlpr6Sr+CwrDeatGsYK7fC0OdbcHQt1RBKu64uxKfS+6u9uDlr2fVapzLX6l9m7i0bYM26SklJoXr16hb9DrebxCkoKAgwze1SqVIl8/a4uDiaNm1a4D7+/v7odDri4uLybI+LizMfryDOzs44Ozvn2+7n54eXl9c9RF8wvV6Pm5sbFSpUkP9QFpD6spzUVfGUifpKuw7LR0BOPFSpD8+tAVffUg+jtOvqn3gDWmc3QoM8y+TTomXi3rIR1qyr3ONZkniXqafqilK9enWCgoLYtm2beVtycjJ79uyhbdu2Be7j5OREixYt8uxjNBrZtm1bofsIIYTNyU6D5f3g+lnwqgKD16qSNKnh8o10AKr6yQSoonSUqRan1NRUzp07Z35/8eJFDh8+jJ+fH1WrVmXChAm8++671K5dm+rVqzNlyhSCg4PNT94BdO3alV69ejFu3DgAJk6cyNChQ2nZsiWtW7fms88+Iy0tjeHDh5f25QkhRPEZ9LB6GETvBxcfeHYdeFdWO6pSE3XdlDiFSOIkSkmZSpz2799Ply5dzO9zxxkNHTqUJUuW8MYbb5CWlsbzzz/PzZs36dChA5s3b8bFxcW8z/nz50lISDC/f+aZZ4iPj2fq1KnExsbStGlTNm/enG/AuBBC2CRjDmi04OAKA1dBQF21IypVUYm3Eiff0h3LJcqvMpU4de7cmaKmndJoNMycOZOZM2cWWiYyMjLftnHjxplboIQQokxxdIVnlkHcMQhuqnY0pS43carmb3tr4xkMBvR6fZFl9Ho9Dg4OZGZmYjAYSimysul+6srR0RGdTlcicZSpxEkIIcQtl/dBlZag0YDOoVwmTYqi/Js42VBXnaIoxMbGcvPmTYvKBgUFcfny5TL3RGBpu9+68vHxISgo6L7rWRInIYQoa46tgzXPQfNn4fHPQFsyf0mXNfGpWaRnG9BqoIqv7SROuUlTYGAgbm5uRf6iNhqNpKam4uHhcdeJF8u7e60rRVFIT083L6V2+5P390ISJyGEKEsu/AHrXwAU0DmbxjeVU5duDQyv5O2Kk4Nt1IPBYDAnTRUqVLhreaPRSHZ2Ni4uLpI43cX91JWrq2kM3LVr1wgMDLyvbjv5LgkhRFkRcwRWDAJDNtR/Ch790NRVV07lJk7VKthOa1PumCY3N9uJSZjkfk/uNu7sbiRxEkKIsiDxIiztA9kpUK0D9FpUbrvockVdTwNsK3HKJeOVbE9JfU8kcRJCCFuXGg9Ln4a0a1CxIQxYDo4ud9/Pzl1KzJ380vaeqBP2SxInIYSwddH74cYl8K4Kg9aAi7faEdkEW+yqK8sUReH555/Hz88PjUbD4cOHuX79OoGBgQVO5VOQ7OxsQkND2b9/v3WDVZEMDhdCCFtX91EYuBJ8Q8Hr/p4IsidRibLcSknavHkzS5YsYceOHdSoUQN/f3/eeOMNnnrqKUJDQy06hpOTE6+99hpvvvlmnuXM7Im0OAkhhC0yGiE98d/3tR8G/9rqxWNjkjP1JKZlA9LiVFLOnz9PpUqVaNeuHUFBQWRnZ/PNN98wYsSIYh1n0KBB7Nq1i+PHj1spUnVJ4iSEELZoyxT4ugtcP692JDYpd426Cu5OeLo4qhxN2Tds2DBeeukloqKi0Gg0hIaG8ssvv+Ds7MwDDzxgLjdz5kyCg4O5fv26eVuPHj3o0qULRqMRAF9fX9q3b8+KFStK/TpKg3TVCSGErdk9HyK+ML2+eggq1FQ3HhuUO76pqo23NimKQoa+8OVBjEYjGdkGHLJzSnweJ1dHncVPkn3++efUrFmTRYsWsW/fPnQ6He+++y4tWrTIU+7tt99m8+bNjBw5kvXr17NgwQJ2797NkSNH8sTfunVr/vzzzxK9HlshiZMQQtiSIyvht3dMrx+eCY36qBuPjbqUeGsqAhsf35ShN1B/6q+qnPvEzHDcnCz7Ne/t7Y2npyc6nY6goCAALl26RHBwcJ5yOp2OpUuX0rRpUyZNmsS8efP4z3/+Q9WqVfOUCw4O5tKlSyVzITZGEichhLAV57bCj2NMrx8YC+1eVjceGxZlbnGSqQisJSMjAxeX/NNe1KhRgzlz5vDCCy/wzDPPMHDgwHxlXF1dSU9PL40wS50kTkIIYQuiD8DKIWDMgUZ9ofu75XpW8LsxT0Vg4y1Oro46TswML/Rzo9FISnIKnl6eVumqux/+/v7cuHGjwM927tyJTqcjMjKSnJwcHBzyphOJiYkEBATc1/ltlQwOF0IItSkK/Po26NOgRhd46v9A1i0rUu5UBLb+RJ1Go8HNyaHIL1cn3V3L3MvX/c6U3axZM06cOJFv+8qVK1m3bh07duwgKiqKWbNm5Stz7NgxmjVrdl/nt1XyP1MIIdSm0cAzy6D5UHjme3BwUjsim5apN3A1KQOAatJVZzXh4eEcP348T6vTlStXGD16NB9++CEdOnRg8eLFvP/++/z999959v3zzz/p3r17aYdcKiRxEkIItdx6fBsA9wrw5Dxw9lQvnjIiKjEdRQEPZwf8PSTJtJZGjRrRvHlzVq1aBZieEBw2bBitW7dm3LhxgCm5Gj16NIMHDyY1NRWAiIgIkpKS6NPHPh9skMRJCCHUkJMFy3rDgSVqR1LmXEwwPVFX3d9dFtMtQRMmTMi3tMrUqVP5/PPPMRqNaDQatm7dyubNm/PU+7x58zh37hweHh4AfPbZZ7z++uu4urqWZvilRgaHCyFEaTMaYf0LcH47XN4HdR4Fz4pqR1VmRN5KnEL9pZvO2nr06MHZs2eJjo4mJCTkruWzs7Np1KgRr7zySilEpw5JnIQQojQpCvw6GY6vB62jaUyTJE3FEnn9VouTjQ8MtxcTJkywuKyTkxPvvPOO9YKxAdJVJ4QQpWnXp7Bnoel1r4VQs4u68ZRBF6XFSahIEichhCgth5bBthmm1+GzZVbwexSZYJqKQBInoQZJnIQQojTEnYCfXjK9bj8e2o5RN54yKiPbQGxyJgDVZSoCoQIZ4ySEEKUhsB50eQuun4duM9SOpszKHd/k7eqIr7tMRSBKnyROQghRGjQa6PiaaXC4PEJ/z26fikAINUhXnRBCWEtyDPw4FrJS/90mSdN9kcRJqE1anIQQwhoybsLS3nDtOOgzoM9/1Y7ILpjncJLxTUIldtXiFBoaikajyfc1duzYAssvWbIkX1kXF5dSjloIYXf0mbBioClp8qgIXaeqHZHdyB3jFOovczgJddhVi9O+ffswGAzm98eOHePhhx+mb9++he7j5eXF6dOnze9l+n4hxH0xGmDdSLj0Fzh7weC14BuqdlR24+KtqQikq670DBs2jJs3b/LDDz+oHYpNsKvEKSAgIM/7Dz74gJo1a9KpU6dC99FoNAQFBVk7NCFEeaAo8MvrcPJn0DlB/+UQ1EjtqOxGSqaehNQsQOZwEuqxq8TpdtnZ2SxdupSJEycW2YqUmppKtWrVMBqNNG/enPfff58GDRoUeeysrCyysrLM75OTkwHQ6/Xo9fqSuYBbx7v9X1E0qS/LSV0Vj6X1pd09D93+b1DQYHhqIUqVB6Cc1bE1763zcaaftX7ujrjqbPP+1ev1KIqC0WjEaDTetbyiKOZ/LSlvTWvWrGHWrFmcO3cONzc3mjVrRtOmTfn222+Bf3tktm3bxrvvvku9evWYP3++ef/4+HhCQkLYuHEjXbt2JSsri2nTpvG///2Pa9euERISwptvvsmIESMYPnw43333Xb4Ytm3bRufOnalRowajRo3i3LlzrFmzBl9fX9566y369+9vrqtJkybxww8/cOXKFYKCghg4cCBTpkzB0dGxwOszGo0oioJer0en0+X5rDj3kkbJ/a7ZmVWrVjFw4ECioqIIDg4usExERARnz56lcePGJCUlMWfOHHbu3Mnx48epUqVKoceePn06M2bkn4dl+fLluLlJv7sQ5ZVX+iXanp/DmaCnuBjQTe1w7M6BBA3fndVRw1NhfEPD3XdQgYODA0FBQYSEhODkdNs8U/r0wnfSaMHBpWTLOhbvd1FsbCyNGjVixowZPP7446SkpBAREUH//v15+eWXSU5OZsGCBQD4+vry448/8sYbb3Dq1CmcnZ0B+L//+z+++uorDh8+jEaj4bnnnmPv3r188MEHNGzYkEuXLnH9+nWefvppkpKSyMzMNJ//s88+Y+3atfz5559UrFiRxo0bk5qayltvvcVDDz3Ejz/+yLvvvsvff/9N7dq1AZgzZw4PPvgglSpV4vjx40yYMIExY8Ywfvz4Aq8xOzuby5cvExsbS05OTp7P0tPTGThwIElJSXh5eRVZV3abOIWHh+Pk5MTPP/9s8T56vZ569eoxYMAAZs2aVWi5glqcQkJCSEhIuGuFF4der2fLli08/PDDhWbQ4l9SX5aTuiqeYtVXZhK4eJdOYDbImvfW59vO8cWOC/RrUZn3ehbdM6CWzMxMLl++TGhoaJ6HjbQzfQvdRx/aBe2za80tOprZldEUkhAp1dqjDN1gfq+ZUwtN+vV85YxTbxQr7oMHD9KqVSsuXLhAtWrV8nw2fPhwbt68yfr1683bMjMzqVKlCv/3f/9Hv379AGjWrBm9evVi6tSpnDlzhnr16vHrr7/SrVvRf0SsW7eOZ599lt9++4327dsDUKNGDTp06GBulVIUheDgYN58803Gjx9fYE/S3LlzWblyJXv37i3wPJmZmURGRhISEpLvQbDk5GT8/f0tSpzssqvu0qVLbN26lXXr1hVrP0dHR5o1a8a5c+eKLOfs7GzOsO/c3xq/hKx1XHsl9WU5qaviKbC+ov42tQKEtL5VyL/0A7NB1ri3IhMzAKhV0dNm71uDwYBGo0Gr1aLVWv7geu4+dy2HBo0F5YpzbjAlPV27dqVJkyaEh4fTvXt3+vTpg6+vr/mp89uP6ebmxrPPPsuSJUvo378/Bw8e5NixY/z0009otVr++ecfdDodXbp0KTKWQ4cOMXToUL744gsefPDBPJ81adIkz75BQUEkJCSYY1m5ciXz5s3j/PnzpKamkpOTg5eXV6Hn02q1aDSaAu/N4txPdpk4LV68mMDAQHr06FGs/QwGA0ePHuWxxx6zUmRCCLty7SQs7wc52TD0p3+TJ2EVF+JNUxHU8PdQOZJ78NbVAjcbjUbSUtPI08bxehF/vGvuSAomHL3v0AB0Oh1btmxh9+7d/Pbbb8yfP5+3336bPXv2FLrPyJEjadq0KVeuXGHx4sU89NBD5tYqV1fXu54zNjaWJ598kpEjRzJixIh8n9+ZzGg0GvM4sIiICAYNGsSMGTMIDw/H29ubFStWMHfu3OJc9j2xu8TJaDSyePFihg4dioND3ssbMmQIlStXZvbs2QDMnDmTBx54gFq1anHz5k0+/vhjLl26xMiRI9UIXQhRliRdMU1wmZkEVVpDxYZqR2TXjEbFPGt4zcAymDg5FfIUoNEIDgbLyhbnuPdAo9HQvn172rdvz9SpU6lWrRrr16/Hyckpz1Q/uRo1akTLli35+uuvWb58OV988UWez4xGI3/88UeBXXWZmZk89dRThIWF8cknnxQ71t27d1OtWjXefvtt87ZLly4V+zj3wu4Sp61btxIVFcVzzz2X77OoqKg8TXg3btxg1KhRxMbG4uvrS4sWLdi9ezf169cvzZCFEGVNeqIpaUqOBv+6MHAlOMmDIdYUk5xJht6Ao05DiO/dWzNE8ezZs4dt27bRvXt3AgMD2bNnD/Hx8dSrV4/MzEx+/fVXTp8+TYUKFfD29ja3Bo0cOZJx48bh7u5Or169zMcLDQ1l6NChPPfcc8ybN48mTZpw6dIlrl27Rr9+/XjhhRe4fPky27ZtIz4+3ryfn59f3kH1hahduzZRUVGsWLGCVq1asXHjxjxjsKzJrmYOB+jevTuKolCnTp18n+3YsYMlS5aY33/66adcunSJrKwsYmNj2bhxI82aNSvFaIUQZY4+A/43AOJPgWewaYJLNz+1o7J7F+JN6/1V9XPDQWd3v7pU5+Xlxc6dO3nssceoU6cO77zzDnPnzuXRRx9l1KhR1K1bl5YtWxIQEMBff/1l3m/AgAE4ODgwYMCAfAOuv/zyS/r06cOYMWMICwtj1KhRpKWZWg3/+OMPYmJiqF+/PpUqVTJ/7d6926J4n3zySV555RXGjRtH06ZN2b17N1OmTCm5CimC3bU4CSGE1RhzYN1zcPlv05Nzg9eCT4jaUZUL5vFNAWWwm64MqFevHps3by7ws4CAAH777bcCP0tISCAzM7PAMUouLi588sknBXbFRUZGFhlPQZ8fPHjQPG8iwEcffcRHH32Up8yECROKPG5JkMRJCCEsZcwBrQ50zjBgBVSUbv3SktviVFMSJ5ug1+u5fv0677zzDg888ADNmzdXO6RSI4mTEEJYysEF+n4LsUchuKna0ZQrFxJyW5xkqRVb8Ndff9GlSxfq1KnDmjVr1A6nVEniJIQQd6GJ3m9ahw5MLU6SNJW689dyW5wkcbIFnTt3xk7nz74rGWEnhBBFOfEjuiWP0ixqkamrTpS69OwcriaZlucok3M4CbsiiZMQQhQmchesHYkGBYPGCTS6u+8jSlzu/E1+7k74ut/9UXUhrEm66oQQoiCxx0zTDhiyMdbtwT+ufalSwPpYwvr+nTG87HTT5c5wLWxHSX1PJHESQog73bhkmuAyKxmqtsPQ8yv4bbvaUZVb5289UVcWBoY7OTmh1Wq5evUqAQEBODk5FbggbS6j0Uh2djaZmZnFXl+uvLnXulIUhezsbOLj49FqtRZNsFkUSZyEEOJ2addh6dOQGguB9WHA/0xP0wnVnL01MLx2oKfKkdydVqulevXqxMTEcPVqwevT3U5RFDIyMnB1dS0ywRL3X1dubm5UrVr1vhNUSZyEEOJ2Vw+aWpy8Q0wTXLr6gF6vdlTl2rk4U+JUq4ysUefk5ETVqlXJyckpcI232+n1enbu3EnHjh3zLWor8rqfutLpdDg4OJRIciqJkxBC3K72wzBoFXhVBq9gtaMp93IMRvPg8LKSOIFpwVxHR8e7/oLX6XTk5OTg4uIiidNd2EpdSeIkhBCKAhk3/l1zruZD6sYjzKIS08k2GHF11FHZRxb3FeqTkWhCCLFtBnzVCRLOqh2JuEPu+Kaage5otTIGSKhPEichRPn290LY9SkkRcGV/WpHI+5wrgwNDBflgyROQojy69ha2DzJ9PqhKdB0gLrxiHxyE6eyNL5J2DdJnIQQ5dOFHbDuBUCB1s/Dg6+qHZEowNlrKYAkTsJ2SOIkhCh/Yo7AisFg1EP9nvDIByBz6Ngco1G5ratOEidhGyRxEkKUP7+9A9kpEPogPL0ItLIGnS2KvplBpt6Ik05LVT83tcMRApDESQhRHvX9FpoPhf7LwMFZ7WhEIXJbm6r7u+Ogk19XwjbIPE5CiPLBaITcpRbc/ODJeerGI+7KPL6ponTTCdshKbwQwv7lZMOyPrBnkdqRiGKQ8U3CFkniJISwb0Yj/DgGzm+DrdMh+e4LrwrbcKaMrVEnygdJnIQQ9m3LFDi6GrQO0O87WX+ujDAaFc7Gmbrq6laUyS+F7ZDESQhhv3bPh4gvTK+fWgC1u6kbj7BY9M0M0rINOOm0hPq7qx2OEGaSOAkh7NORlaZpBwAenglN+qsbjyiW07Gm1qYaAe44yhN1wobI3SiEsD8JZ03jmgAeGAvtXlY3HlFsp3O76YKkm07YFpmOQAhhf/xrQ9dpEHsUur8rs4KXQWckcRI2yq5anKZPn45Go8nzFRYWVuQ+q1evJiwsDBcXFxo1asQvv/xSStEKIayq/cu3ZgW3qx9z5UZuV50MDBe2xu5+ojRo0ICYmBjz165duwotu3v3bgYMGMCIESM4dOgQPXv2pGfPnhw7dqwUIxZClIiUOFg/GjKT/90mLU1lkt5g5Hy8aSqCOpI4CRtjd111Dg4OBAUFWVT2888/55FHHuH1118HYNasWWzZsoUvvviChQsXWjNMIURJykyGZb1NXXPZqfDM92pHJO5DZEIaeoOCu5OOyj6uaocjRB52lzidPXuW4OBgXFxcaNu2LbNnz6Zq1aoFlo2IiGDixIl5toWHh/PDDz8UeY6srCyysrLM75OTTX/h6vV69Hr9/V3AbXKPVZLHtGdSX5azq7rKyUK3ciDa2KMo7gHkdJkCJXxddlVfVlYSdXUi+iYAtSt6YDDkYDCURGS2Se4ty1mzropzTI2iKEqJR6CSTZs2kZqaSt26dYmJiWHGjBlER0dz7NgxPD3zN/c6OTnx7bffMmDAAPO2//u//2PGjBnExcUVep7p06czY8aMfNuXL1+Om5us4C1EqVGMtIz8Pyrf3EuO1oVdtd8iyS1U7ajEffolSsuv0VraBhrpX9OodjiiHEhPT2fgwIEkJSXh5eVVZFm7anF69NFHza8bN25MmzZtqFatGqtWrWLEiBEldp7JkyfnaalKTk4mJCSE7t2737XCi0Ov17NlyxYefvhhHB0dS+y49krqy3J2UVeKgva3t9Dd3IuidYT+y2hfvZNVTmUX9VVKSqKuNiw/DNHXeKhlPR5rW61kA7Qxcm9Zzpp1ldtzZAm7Spzu5OPjQ506dTh37lyBnwcFBeVrWYqLi7vrGClnZ2ecnZ3zbXd0dLTKjW+t49orqS/Llem62j0f9n8NgKbXQhzqWH9W8DJdX6Xsfurq7K3FfesH+5Sb+pZ7y3LWqKviHM/unqq7XWpqKufPn6dSpUoFft62bVu2bduWZ9uWLVto27ZtaYQnhLgfNR8Cz0rwyAfQqI/a0YgSkp6dw6XEdECeqBO2ya5anF577TWeeOIJqlWrxtWrV5k2bRo6nc48hmnIkCFUrlyZ2bNnAzB+/Hg6derE3Llz6dGjBytWrGD//v0sWrRIzcsQQliiYgMY8ze4+qgdiShBp2NTUBTw93AmwDN/y74QarOrxOnKlSsMGDCA69evExAQQIcOHfj7778JCAgAICoqCu1tk+G1a9eO5cuX88477/DWW29Ru3ZtfvjhBxo2bKjWJQghinJ5HxiyILSD6b0kTXbnZIxp4st6laS1Sdgmu0qcVqxYUeTnO3bsyLetb9++9O3b10oRCSFKTPwZWN4XstPh2fUQ2l7tiIQVnIhJAqB+cMk9aCNESbLrMU5CCDuRfBWWPg0ZNyCoIQQ3VTsiYSW5LU71K0niJGyTJE5CCNuWcROW9oaky1ChFgxcDU7uakclrMBoVDgVY3osvJ4kTsJGSeIkhLBd+kxYMRCunQCPIBi8DtwrqB2VsJLLN9JJyzbg5KClhr8kx8I2SeIkhLBNRgOsGwmX/gJnLxi8FnztezLE8u7krdamuhU9cdDJrydhm+TOFELYJqMBtA6gc4L+y01jm4RdOyFP1IkywK6eqhNC2BEHJ+j9X4g7CpWaqB2NKAUnrsr4JmH7pMVJCGFbovaA8dbCrlqtJE3lyEkZGC7KAEmchBC24+QGWPwIrBsFBr3a0YhSlJShJ/pmBiCJk7BtkjgJIWzDpQhYOwIUIzi5mcY3iXIjdxqCyj6ueLvKYrfCdkniJIRQX9wJ+N8zkJMJdR+DHp+CRqN2VKIUHbs1vklmDBe2ThInIYS6bl42TXCZmQQhbaD3N6CT1qby5ni0aamVRpW9VY5EiKJJ4iSEUE96oilpSrkK/nVhwApTN50od47eSpwaVpYWJ2HbJHESQqgn5gjcuAiewfDsOnDzUzsioYL07BzOx6cC0FBanISNk/ZwIYR6anYxLaPiVgG8q6gdjVDJyZhkjAoEejoT6OmidjhCFEkSJyFE6VIUUxdd7ppz1R9UNx6humPRpoHhMr5JlAXSVSeEKF3b34WvHoRrJ9WORNiI3PFNDSRxEmWAJE5CiNKzZxH8OQeSo+HKfrWjETbiWO7AcJmKQJQBkjgJIUrH8fWw6Q3T685vQfNn1Y1H2IRMvYGz10wDwxtVkRYnYfskcRJCWN/FnbDueUCBls9BpzfUjkjYiFOxKRiMChXcnQjykoHhwvZJ4iSEsK7Yo7BiEBiyod4T8NgcmRVcmN0+vkkj94UoAyRxEkJY19bpkJUM1drD0/8BrU7tiIQNOXYld8ZwGd8kygaZjkAIYV19/gtbpqF0m0ZiloaL0YlcTcpEp9Hg7KAlxM+NGgHuOOrk77jy6MiVmwA0qeKjahxCWEoSJyFEyTMaQWtKhI4nwk8OL7Bp/mGiEtMLLO7koKVpiA+PN67Eow0rEeDpXJrRCpWkZeVwJi4FgKYhPuoGI4SFJHESQpQsgx5WDCS2Qhveju3EtlPXzB9pNBDs7UplX1fA9ETVhfg0UrNy2Hsxkb0XE5n58wmebl6ZMZ1rEervrtZViFJwLDoJowKVvF0IlIHhooyQxEkIUXIUBcMP49Cd/Q3vMzs4leWPVhPAIw2D6NEomM51A3B3zvtjx2hUuJSYzraTcfx85CpHriSxav8V1hy4wrMPVOPV8Lp4uTiqdEHCmqSbTpRFkjgJIe6dwQB//gkxMVCpEjcSN+F7dAU5ipYx+vE0b9KEV7rVpkaAR6GH0Go1VPd3Z+SDNRj5YA0OXLrBF9vP8vvpeL6NuMSmY7G827Mh3RsEleKFidJw5LJpYHgT6aYTZYgkTkKIe7NuHYwfD1eumDf5emngERferT+ewc+Oomu9isU+bItqviwe3ppdZxOY8uMxLiak8fz3BxjWLpTJj4Xh7CBP5dmLw5dvAtAkRCa+FGWHXT3GMnv2bFq1aoWnpyeBgYH07NmT06dPF7nPkiVL0Gg0eb5cXKSvXYgirVsHffrkSZoASFZQVmXwSs0m95Q03a5DbX82jX+Q5zvWAGDJ7kj6LYwgLjnzvo4rbEN8ShbRNzPQaGRxX1G22FXi9McffzB27Fj+/vtvtmzZgl6vp3v37qSlpRW5n5eXFzExMeavS5culVLEQpRBBoOppUlRCv5co8H7rTdM5e6Ti6OOtx6rxzdDW+Lj5siRK0n0WvAXp2NT7vvYQl3/3BrfVCvAA08ZwybKELvqqtu8eXOe90uWLCEwMJADBw7QsWPHQvfTaDQEBcn4CSEs8uef+VuabqNRFLh82VSuc+cSOWXXehX5cWx7hi/ex4WENPp8uZtvhrWidXW/Ejm+KH1HzN10PqrGIURx2VXidKekJNPAQz+/on+4pqamUq1aNYxGI82bN+f999+nQYMGhZbPysoiKyvL/D45ORkAvV6PXq8vgcgxH+/2f0XRpL4sdz91pbl82aIfHDmXL6OU4Pci2MuJlaNaM3r5IfZfusnQ/+5h0eDmPFDD+smT3FuWs7SuDkXdAKBhsGe5rle5tyxnzboqzjE1ilJYe3vZZjQaefLJJ7l58ya7du0qtFxERARnz56lcePGJCUlMWfOHHbu3Mnx48epUqVKgftMnz6dGTNm5Nu+fPly3NzcSuwahLBFFY4epcOUKXctt2vWLK43alTi5882wDentZxK0uKoVRgVZqSut13+GLNbRgXe2qcjw6DhtUY5hBT+0KUQpSI9PZ2BAweSlJSEl1fRy//YbeI0evRoNm3axK5duwpNgAqi1+upV68eAwYMYNasWQWWKajFKSQkhISEhLtWeHHo9Xq2bNnCww8/jKOjjAG4G6kvy91XXaXfRFutCrqk7AI/VjQaqFyZnLNnQWedJ+Cy9AbGrTjCjjMJuDnp+HZYC6vOPC33luUsqauz11J5bP5uXB21HHz7IRzK8XI7cm9Zzpp1lZycjL+/v0WJk1121Y0bN44NGzawc+fOYiVNAI6OjjRr1oxz584VWsbZ2Rln5/xLQjg6OlrlxrfWce2V1Jflil1XOdmkrhqGR7gOZZVpU5717DUa0/vPP8fRik+nOjo68tWQloz8dj9/nk1g5PeHWP1iW+pU9LTaOXPPK/eWZYqqq3+ic5dZ8cXVRZbXAbm3isMadVWc49lVmq8oCuPGjWP9+vVs376d6tWrF/sYBoOBo0ePUqlSJStEKEQZZjRiXP8iHtG7SAvzYN2LL8Odf5hUqQJr1sDTT1s9HGcHHV8924JmVX1IytAz5Ju9xCbJVAVlwYFLpvFNLar5qhyJEMVnV4nT2LFjWbp0KcuXL8fT05PY2FhiY2PJyMgwlxkyZAiTJ082v585cya//fYbFy5c4ODBgwwePJhLly4xcuRINS5BCNukKPDbO2iPr0Wv6HhN+xqdP/4ITWQk/P47LF9u+vfixVJJmnK5OTmweFgragV6EJucyYhv95GWlVNq5xf35kCUJE6i7LKrxOnLL78kKSmJzp07U6lSJfPXypUrzWWioqKIiYkxv79x4wajRo2iXr16PPbYYyQnJ7N7927q16+vxiUIYZv2fAV/LwDgdf0LdOkxgAoezqYxTJ07w4ABpn+tNKapKD5uTiwe1ooK7k4cv5rM+BWHMBjtcuimXUhMy+ZCvGluvWZVfdQNRoh7YFdjnCwZ575jx4487z/99FM+/fRTK0UkhJ2o2YXrukAWZnYjNvRJ+rYo3thBawvxc+ProS3pv+hvtp68xufbzjLx4TpqhyUKkDsNQa1AD3zcnFSORojis6sWJyGEdexOrkDntPdZrDzBuz0bodFo7r5TKWte1ZcPe5umP5i37Sy/n7qmckSiIObxTVWlm06UTZI4CSEKduUAXNiB0ajwwaZTpODGwDZVqRVou5Pu9GpWhcEPVAVgwsrDXE5MVzkicScZGC7KOkmchBD5JZyD5X1haR/+3raOf64k4e6k4+WutdWO7K6mPF6fJiGmJ+3GLDtIpv7+18wTJUNvMHLk1hp1zSVxEmWUJE5CiLxSYmFpL0i/jrFiA2YcdAXghU418few/Tl3nB10/N+g5vi6OXI0OomZG06oHZK45Vh0Epl6Iz5ujtTwd1c7HCHuiSROQoh/ZSbB0j5wMwr8avBzw885fUPB38OZkQ8Wf140tVT2ceXz/s3QaGD5nijWHCh8UWJRevZcTASgVagfWq3tjZMTwhKSOAkhTPSZsGIQxB0F90AMg9bxWcRNAJ7vWB03p7L1EG7HOgG80s30ZN3UH48RmZCmckRi763EqU116y/MLIS1SOIkhACjAdY/D5F/gpMnDF7DpmhnLiak4e3qyMA21dSO8J6M61KLB2r4kZ5tYMLKw+QYjGqHVG4ZjAr7zIlTBZWjEeLeSeIkhADFCA6uoHWE/stQghqz4PfzAAxvH4qHc9lqbcql1WqY268pni4OHL5803xNovSdjEkmJSsHT2cH6geX3GLoQpQ2SZyEEKBzhJ5fwqhtUKMTO07HczImGXcnHcPahaod3X2p7OPKuz0bAjBv+1nzBIyidOWOb2oZ6otOxjeJMkwSJyHKMc2VvaZuOgCtFio1AeC/f10EYEDrqnYxu/NTTSvzZJNgDEaFV1YelvXsVLDnwnUAWks3nSjjJHESopyqmHQI3XdPwJrhkJNt3n4+PpU/zyag0cCQtqHqBVjCZj3VkEreLkReT+fdjSfVDqdcMRoV9kbeGt9UQwaGi7JNEichyiHNlX20vLgAjWIAR3dTV90t3+2OBKBrWCBVK7ipFGHJ83ZzZG6/Jmg08L+9UWw/Fad2SOXG2Wup3EzX4+qoo1Flb7XDEeK+SOIkRHkTfxrdqoE4KNkYa3aDJ+fBrbXnUjL15jmPhrUrO/M2WapdTX9GtDdd1+R1R0nK0KscUfnw961uuhbVfHHUya8dUbbJHSxEeZIUDd8/jSbjBoluNTE8/U2e1qa1B66Qlm2gVqAH7WvZ51iU18LrUt3fnbjkLGb/Il12pWHXuQQA2tnpPSXKF0mchCgvMm7A0t6QfAWlQi321JwITv8ue6EoCsv3RgEwpG01NBr7fPLJxVHHh70bA7Bi32X+PBuvckT2Lcdg5O/zphan9jX9VY5GiPsniZMQ5UXsMbhxETyCyBmwmmwHzzwf/3MliTNxqTg7aHmqaWWVgiwdrav7MbStaVLPSWuPkipP2VnNP9FJpGTl4OXiQEMZ3yTsgCROQpQX1R+EIT/C4LXgHZLv41X7LwPwaMMgvF0d831uC/QGPUalZGb/fuORMCr7uBJ9M4OPNp8qkWOK/HbndtPV9Jf5m4RdkMRJCHumKJCW8O/7qg9AUMN8xTKyDfx0+CoA/VqGMOyHYWhmaAr9ik6ONu+7+/JuOvy3A27vuRE0J4iXN71ManaqxSF+c/Ab6i2oh8u7LtSeX5v5e+YXcBkKEzZPwHO2J74f+jJvz7xiVELB3J0dzF1230VcMs8zJEpW7vim9rWlm07Yh7K5joIQwjJ/fAT7vzG1MgU1KrTYr8djScnKoYqvKw/UqIDG+QW61eiWp4yiKLy48UVCfUKp7GXqyjsce5iu33Wlnn89Pgn/hCvJV5izew5nE8+yadCmu4b31f6veHHji/Su15uJD0zkz6g/eXnzy6Tr03mzw5vmcsuPLmfdyXX858n/kK5PZ9LWSbSp3IY2VdrcY8WYdKjtT/9WIazYd5k31/7D5gkdcXHU3dcxxb/Ss3M4eOkmAB1qSeIk7IMkTkLYq/2LYcf7ptdX9hWZOOV20/VpUQWtVkPbkLa0DWmbp8yuqF2k69MZ1GiQedtb297C18WXHcN24OVsWn8s1CeUUT+P4rfzv9G9ZvdCz5mhz+Dt7W/To3YP1vRbA8CoFqMwKkZm7ZzF8y2ex9fVF4CIKxG82vZVBjceDMDJ+JPsitp134kTwFs96vH76WtEXk/ni+3neC287n0fU5jsi7xBtsFIsLcLoXY0J5go36SrTgh7dHIDbJxoet3xdWj5XKFFY5IyiLjVTdW7eZVCyy0/uhwNGgY2GghAclYyWy5sYXDjweakCWBIkyF4OHmw6viqIkP8PfJ3rmdcZ0yrMXm2j201ljR9GhvPbjRvq+Fbg2VHl3Ek9gh/X/mbn878RO0KtYs8vqW8XByZ/kQDAL7aeZ4zcSklclwBf+V209Xyt9unNEX5I4mTEPbm0m5Y8xwoRmg+BLq8XWTxjf/EoCjQspovIX4FtwroDXpWHV9Fu5B2hPqEAnA07ig5xhxaBrfMU9ZJ50TToKYcij1U5HkPxZg+v3P/FsEt0Gq05s8BXmz5Ig5aB5p+1ZS237TlgSoP8ESdJ4o8fnE80jCIbvUC0RsU3lp3FKNRKbFjl2d/nDZN9dBBxjcJOyJddULYk7gT8L/+YMiCuo9Bj0/Ns4IX5ucjpkHhTzQJLrTMr+d/5XrG9TzddDGpMQBU8qiUr3wlj0r8GfVnkeeNSY1Bp9ER6B6YZ7uTzokKrhW4mnrVvM3N0Y1dz+3iaNxRXBxcqOtfst1pGo2GGU81ZPf5P9h/6QYr9l1mYJuqJXqO8iYmKZPTcSloNNCxdoDa4QhRYord4nTy5EmmTZvGQw89RM2aNalUqRKNGzdm6NChLF++nKysLGvEKYS4i+0Xt/Pk9w/zRmYcS/2qcrrzmyjaogc6X7qezpErSWg18Fij/AlQruVHl+OodaRfg37mbRn6DACcHZzzlXdxcDF/XpgMfQZOOqcCPytof61GS5OgJiWeNOWq7OPKq91Nx5696STXUjKtcp7y4o8zpm66ZiE++LoX/H0WoiyyOHE6ePAg3bp1o1mzZuzatYs2bdowYcIEZs2axeDBg1EUhbfffpvg4GA+/PBDSaCEKGV7o/fyc9pVPtZk8+yNY4QtakbFORUZvG4wq4+vLjCR2Xg0FjCNQQnwzJ8AAaRmp/Lj6R8JrxVOBbd/l8xwdXQFICsn///1zJxM8+eFcXV0JduQXeBnluxvDcPahdKosjcpmTnM/PlEqZ/fnvxxxtRN16Vu4F1KClG2WNxV17t3b15//XXWrFmDj49PoeUiIiL4/PPPmTt3Lm+99VZJxCiEKIrRCFotT9R5Ai9nL07En+BQ7CEOxhwkPj2eZUeXsezoMrydvRnWdBivtn2VILcg4N/E6YnGhXfT/XDqh3xP08G/XXS5XXa3i0mNIdiz8GPm7m9QDFxLu5anuy7bkM31jOsEexS9vzXotBpmP92IJ7/YxYZ/Yujd4pr84r8HOUbYfSERgC5hUn/CvlicOJ05cwZHx7vPJty2bVvatm2LXi+rjgthdYYcWDkYQlrToMMrNAhsYP4oKyeLv6/8zcazG1l1fBWXki7x+Z7P+XL/l7zS5hUqp7bgzLVUHHUawhsGFXqKZUeX4eHkwZN1n8yzvWFgQxy0Duy/uj9PF162IZvDsYfpV7/fnYfKo2lQUwD2X93PY7UfM2/ff3U/RsVo/ry0NazszfD21flm10Wm/HCM317piKM8EFYs51M0pGcbCPB0pn4lr7vvIEQZYnFXnSVJE0B6enqxylvDggULCA0NxcXFhTZt2rB3794iy69evZqwsDBcXFxo1KgRv/zySylFKsR9UBTYMB7ObII/PoQbkXk+dnZwplNoJz56+CMujL/ApkGb6BzamWxDNh/u/pCZFyeRw3UerB1Q6BIr8WnxbL2wlV5hvXBzzPvEnbeLN91qdGPpP0tJyfr3Ef7vj3xPanYqfRv0NW9L16dzKuEUCen/zmL+UPWH8HP148v9X+Y57pf7v8TN0Y0edXrca83ct4kP16GyjytXbmTw+dazqsVRVp24Yco0O9UJQCvLrAg7c0/TEXTt2pXo6Oh82/fu3UvTpk3vN6b7snLlSiZOnMi0adM4ePAgTZo0ITw8nGvXrhVYfvfu3QwYMIARI0Zw6NAhevbsSc+ePTl27FgpRy5EMW1/Fw4tBY0W+iwGv+qFFtVqtDxS6xG2D9nOun7r8Hf1J8FwgTjnt3mwTuETE648vpIcY06+brpc7z30HokZiXRa0omF+xfyzvZ3GLdpHN1rdueRWo+Yy+2N3ku9BfX4Yu8X5m2ujq7M6jKLDWc20Hd1X/5z8D8M/WEoS/9ZytsPvo2fq989VErJcHd2YOZTpta7/+y6yImYZNViKYtO3jQlS9LNKezRPSVOLi4uNG7cmJUrVwJgNBqZPn06HTp04LHHHrvL3tb1ySefMGrUKIYPH079+vVZuHAhbm5u/Pe//y2w/Oeff84jjzzC66+/Tr169Zg1axbNmzfniy++KLC8EDZhzyL4c47p9eOfQZhl/+80Gg296vVife9t6Iz+5GivsC/x60LLLzu6jED3wHzLr+RqXqk5W4dsxdXRlVd+fYVFBxYxotkI1vRdY1E8Y1qNYdHjizgad5Sxv4zlr6i/+DT8UyZ3mGzR/tbUtV5FHmsUhMGoMOXHE8jUTpa5mJBGXIYGB61G5m8Sdume5nHauHEjCxYs4LnnnuPHH38kMjKSS5cusWHDBrp3L3yJBWvLzs7mwIEDTJ787w9drVZLt27diIiIKHCfiIgIJk6cmGdbeHg4P/zwgzVDFeLeHV8Pm94wve7yNrQYWuxDnIp2o4J+LNecZ7Di+Hd80eMTtJr8f0dFjCj4/83tOlTtwF/P/VVkmc6hnVGmFZx5jGoxilEtRlkWeCmb9kQD/jyTwD/Ryexy1PC42gGVAVtOmlr321T3K7QLWIiy7J4nwBw7dixXrlzhww8/xMHBgR07dtCuXbuSjK3YEhISMBgMVKxYMc/2ihUrcurUqQL3iY2NLbB8bGxsoefJysrKM91CcrKpGT8sLAyttuQmY1cUhaysLJydnWW5AguUi/oyGiDtmml8k5M7/GceMK/Yh0lMyybLaICJcCPzBpVrVUaXJYvbFiQ9O4fkjBzmaWD5TCd0Jfh/3B5dT81GbzCyydWBKjNkjuW7KRc/t0qINevKaDRaXPae7uobN24wcuRItm3bxldffcUff/xB9+7d+eijjxgzZszdD1DGzZ49mxkzZuTbHhOT/7FsIawn9dbXfdgL6CH2aizIfI93FSvL2FnsRircUDsIIazgnhKnhg0bUr16dQ4dOkT16tUZNWoUK1euZMyYMWzcuJGNGzfe/SBW4O/vj06nIy4uLs/2uLg4goIKftw6KCioWOUBJk+enKd7Lzk5mZCQECpVqiQtTiqS+rJMRraBpAw9Oi34H75VVxXuvl95pjcYuZ5qmqzTx80RF0dpnStIeraB5Nx7y0P+H1pCfm5ZztotTpY2ftxT4vTiiy/y9ttv50kSnnnmGdq3b8/w4cPv5ZAlwsnJiRYtWrBt2zZ69uwJmCpj27ZtjBs3rsB92rZty7Zt25gwYYJ525YtW2jbtm2h53F2dsbZOf8sy6dOncLLq+TmLNHr9fzyyy889thjqk7vUFbYbX2lJcDmyfDoh+B2/0+ajVl2gF+OxhJe2cgXLz5iX3VlJXq9nhe/3My2q1qCvV3YMrET7s7SDXWnIf/dy84z8TxR1cAnox6Ve8sCdvtzywqsWVfJycl4e3tbVPaemkemTJlSYMtKlSpV2LJly70cssRMnDiRr7/+mm+//ZaTJ08yevRo0tLSzAndkCFD8gweHz9+PJs3b2bu3LmcOnWK6dOns3///kITLSFKVVYqLOsLR1fB2pH3fTi9wcifZ01zKdX3tbxPX8AjVYxU8XHhalImn245o3Y4Nic5U0/EedO91chPHkEU9svixCkqKqpYBy5onqfS8MwzzzBnzhymTp1K06ZNOXz4MJs3bzYPAI+KisrTHNeuXTuWL1/OokWLaNKkCWvWrOGHH36gYcOGqsQvhJlBD6uGwNWD4OoHj3xw34c8eOkGKZk5+Lo5UtWjBGIsR5x0MP2JegD896+LHItOUjki27LleBx6g0LNAHcqlv4yg0KUGosTp1atWvHCCy+wb9++QsskJSXx9ddf07BhQ9auXVsiAd6LcePGcenSJbKystizZw9t2rQxf7Zjxw6WLFmSp3zfvn05ffo0WVlZHDt2TPW5qITAaIQfx8H5beDgCgNXQUCd+z7s76dNC68+WMsfmdC5+DrVCeDxxpUwKjB53VEMMrmT2c//XAWgR6PCx4cKYQ8s7qQ/efIk7777Lg8//DAuLi60aNGC4OBgXFxcuHHjBidOnOD48eM0b96cjz76SJIPIe7H1mnwzwrQ6KDftxDSqkQOu+O0aY6dTnX8IfpyiRyzvJn6RH3+OBPP0egkvouIZHj7wmdsLy8S07LZdasL+PFGQZzce1rliISwHotbnK5cucLHH39MTEwMCxYsoHbt2iQkJHD2rGkdp0GDBnHgwAEiIiIkaRLifuz9GnbfmpvpyflQJ7xEDhuTlMGp2BQ0GniwtjxGd68CPV2Y9GgYAHN+Pc3VmxkqR6S+X47GkGNUaFjZi+r+7mqHI4RVWdzi1KxZM2JjYwkICOD1119n3759VKggP3yFKHE1HwKfatBiGDQreI24e7HjVjddsxAffN2cSuy45dGAVlVZdzCaA5duMP2n4ywa0lLtkFT18xFTN90TjYNVjkQI67O4xcnHx4cLFy4AEBkZWaxZNoUQxVChJrz4J3R4pUQPm9tN11kWXr1vWq2G93s1wkGr4bcTcfx6vPCVBuxdbFImeyMTAXi8iSROwv5Z3OLUu3dvOnXqRKVKldBoNLRs2RKdruBJ4HITLCGEha4egrTrUPvWYrouls0nYqkcg5Hd568D0LFOQIkeu7yqG+TJ8x1r8H87zjP9p+O0r+WPRzmc2+nnI1dRFGhZzZfKPq7o9Xq1QxLCqiz+X75o0SKefvppzp07x8svv8yoUaPw9PS0ZmxClA+JF0xzNWXcgIEroVa3Ej/F0egkUjJz8HJxoFFlb4yGnBI/R3n0ctfabPgnhqjEdOb8eprpTzZQO6RSpSgKqw+YHjJ4qllllaMRonQU68+jRx55BIADBw4wfvx4SZyEuF+p1+D7XpAWD0GNoEprq5zmr3OmJ57a1fRHp9VgNFjlNOWOi6OOd3s2ZMh/9/JtRCRPNKlEi2r3P7t7WfHPlSTOxKXi7KDlSemmE+XEPc0cvnjxYkmahLhfWSmwrA/ciDQNBh+0FlxKbsme2+26lTi1r+1vleOXZx3rBNCnRRUUBV5f8w+Z+vKTla7ab2pteqRhEN6uslyIKB9KbkVaIYTlcrJh5WCIOQJu/vDsevCsaJVTpWfncPDSTQA61JLEyRqm9KhPgKczF+LT+HzbWbXDKRUZ2QZ+Omx6mq5fyxCVoxGi9EjiJERpMxrhh9FwYQc4usOg1aYn6axkX+QNsg1GKvu4ElrBzWrnKc+83Rx5r6dpmaZFOy/wz5Wb6gZUCn49HktKVg6VfVxpW0OmphHlhyROQpQ2xQiOLqB1gGe+h8rNrXq63bnddLUqoNHIOivW0r1BEE80CcZgVHh99T9k59j3lC0r9pnWL+3bsgpaWb9HlCOSOAlR2nQO8OQXMOp3qNXV6qczj2+Sbjqrm/5EffzcnTgdl8KC38+pHY7VnI5N4e8LiWg10Fe66UQ5I4mTEKUl6m/InQZAo4FKja1+yhtp2Ry/mgyYnqgT1lXBw5kZt6YkWPD7OY5fTVI5Iuv4NiISgO71g6js46puMEKUMkmchCgNZ7fA4sdg1bOQk1Vqp82d0blWoAcBns6ldt7y7PHGlQhvUJEco8IrKw/b3VN2Sel61h+MBmBY+1B1gxFCBZI4CWFtVw7AqiGgGMDZE7Sl99j2ngumxKlN9fIzt5DaNBoN7/VqhL+HE2fiUvlo82m1QypRq/ZfJkNvICzIU+4rUS5J4iSENSWcg+V9QZ8ONbvCUwtAW3r/7fZGmpZZaS2/4EqVv4czH/UxdcX+96+L7DqboHJEJcNgVPju70gAhrYLlYcNRLkkiZMQ1pISC0t7Qfp1CG4G/b4DXem1NiVn6jlxa3xTm+ryuHhpeyisIoMfqArAq6sPczM9W+WI7t/GozFcTszAx82Rnk1liRVRPkniJIQ1ZCbB0j5wMwr8asDA1eDsUaoh7I9MxKhAtQpuBHm7lOq5hcnbj9WnRoA7cclZvL3+GIqiqB3SPVMUhf+79aTg8HbVcXUqeJF3IeydJE5CWMO1k5B4HtwDYfA68Ago9RD2XJTxTWpzddLx2TNNcdBq2Hg0hvWHotUO6Z5tO3mNU7EpuDvpGNYuVO1whFCNJE5CWEPVB2DozzB4DfhVVyWE3IHhraWbTlWNq/gwoVttAKb8cIzz8akqR1R8iqLwxa3WpsFtq+HtJuvSifJLEichSoqiQGr8v++rtIRKTVQJJS0rh6PRpjmEpMVJfaM71+KBGn6kZRt48fsDpGXlqB1Ssew6l8DhyzdxdtAyskMNtcMRQlWSOAlRUv6cA//3AEQfVDsSDkbdwGBUqOzjSoifrE+nNp1Ww7wBzQj0dObstVQmrztaZsY7GY0KH2w6BcDANlVlPjBR7kniJERJOPgdbH8X0hMg+oDa0XDg0g0AWlTzVTkSkSvQ04UFg5qj02r46chVvv/7ktohWeTnf65y/GoyHs4OjOtSS+1whFCdJE5C3K/Tm+Dn8abXHSZC61HqxsO/iVPLUEmcbEmrUD8mPxoGwKwNJzgYdUPliIqWlWPg419NE3iO7lyTCh7S2iSEJE5C3I+oPbB6GChGaDoYuk5VOyIMRoXDUTcBaF5VEidbM6JDdR5tGITeoDB22UGup5beEjzF9d3uS1y5kUFFL2eea6/OQw5C2BpJnIS4V9dOwfJ+kJMJtcPhic9Ni/eq7Oy1FFKycnB30hEW5Kl2OOIOGo2Gj/o0poa/OzFJmby49ABZOba3nt3Vmxl8uvUMAK8+XFfmbRLiFkmchLhXv78HmTehSivouwR0DmpHBPzbTde0qg8OOvkvbos8XRxZNKQFni4O7Iu8waS1tjVYXFEUpv54nPRsAy2r+dKnRRW1QxLCZtjNT9XIyEhGjBhB9erVcXV1pWbNmkybNo3s7KKXOejcuTMajSbP14svvlhKUYsyrddCaDUSBqwEJ9t5cs08MFy66WxarUBPvhzUAp1Ww/pD0Xy29azaIZn9ejyWrSfjcNRpeP/pRmi16rekCmErbONP5BJw6tQpjEYjX331FbVq1eLYsWOMGjWKtLQ05syZU+S+o0aNYubMmeb3bm6280tQ2BijAbS3uiyc3KHHXHXjKcDBW4lTc3mizuZ1qO3Puz0bMnndUT7fdhY/dyeGqjwrd3xKFlN+PA7ACx1rUqeidPcKcTu7SZweeeQRHnnkEfP7GjVqcPr0ab788su7Jk5ubm4EBQVZO0RR1hlyYPVQCGoEnd60ifFMd0pIzSLyejoAzaTFqUwY0LoqccmZfLb1LNN+Oo63qyM9m6mzgK7RqPDq6iPEp2RRp6IH4x6S6QeEuJPddNUVJCkpCT+/u8+avGzZMvz9/WnYsCGTJ08mPT29FKITZYqiwC+vwqkN8OcncP282hEVKLe1qU5FD7xdZVmMsmJ819rm9d9eXX2En49cVSWORX9eYOeZeFwctXwxsDkujjIgXIg72U2L053OnTvH/Pnz79raNHDgQKpVq0ZwcDD//PMPb775JqdPn2bdunWF7pOVlUVW1r+PECcnJwOg1+vR6/UlcwG3jnf7v6Jo1qwv7c4P0R1YgqLRYuj5FYp3NbDB78u+i9cBaBbiXWQ9yL1VPKVRX5PDa5Ockc26Q1cZv+IQWdl6nmoabLXz3WnXuevMuTVn0zuPhVHdz+WerlfureKR+rKcNeuqOMfUKLb0KEcBJk2axIcfflhkmZMnTxIWFmZ+Hx0dTadOnejcuTP/+c9/inW+7du307VrV86dO0fNmjULLDN9+nRmzJiRb/vy5ctlfJQdCk3YTpPLSwA4EjKMSP+H1A2oCPOP6ziXrGFATQMPBNr0f21RAKMCqy5oibimRYNCr1AjnSpZ//sYnQafH9eRZdDQwt/Is7WMttgTLYTVpKenM3DgQJKSkvDy8iqyrM0nTvHx8Vy/fr3IMjVq1MDJyQmAq1ev0rlzZx544AGWLFmCVlu83si0tDQ8PDzYvHkz4eHhBZYpqMUpJCSEhISEu1Z4cej1erZs2cLDDz+Mo6N0u9yNNepLc2ojunXD0ShGDB1ew9hpUokc1xoMRoXm720nPdvAL+PaUbuiR6Fl5d4qntKsL6NRYdYvp1i65zIAw9pWZdIjddFZ6cm2Kzcy6P/1XuJSsmhT3ZdvhrTA2eHeR3HIvVU8Ul+Ws2ZdJScn4+/vb1HiZPNddQEBAQQEBFhUNjo6mi5dutCiRQsWL15c7KQJ4PDhwwBUqlSp0DLOzs44O+dfesDR0dEqN761jmuvSqy+kqLhxxdMs4I3H4qu6zvobPjP8AuxKaRnG3B30lE32MeiX7RybxVPadXXrJ6NqOzrzoebT7EkIooL1zP4tF+TEl/y5ExcCs9+Y0qaagd6sGhIKzxKaGyc3FvFI/VlOWvUVXGOZzeDw6Ojo+ncuTNVq1Zlzpw5xMfHExsbS2xsbJ4yYWFh7N27F4Dz588za9YsDhw4QGRkJD/99BNDhgyhY8eONG7cWK1LEbbCuzI8NgfqPQk9PrHJp+hud+TyTQAaVfG2WuuEKB0ajYbRnWsyb0AznB207DwTz2Pz/iTifNGt78WxLzKRvgsjiEs2JU3fj2gjDxQIYQGbb3Gy1JYtWzh37hznzp2jSpW8s9zm9kbq9XpOnz5tfmrOycmJrVu38tlnn5GWlkZISAi9e/fmnXfeKfX4hY1q/iw0G2zzSRPA4Ss3AWgS4qNqHKLkPNkkmDoVPRi77CDn49MY8PXfPNMyhMmPheHj5nRPx8wxGPni93PM334Og1GhWVUfFg9rdc/HE6K8sZvEadiwYQwbNqzIMqGhoXmWNQgJCeGPP/6wcmSiTElPhE1vQPhs8LjVRVwGkib4t8WpaRUfVeMQJSssyIufxnXg3Y0n+d/eKFbuv8yvJ2IZ0b46Q9uH4uViWSuRoijsPn+djzaf4siVJACeahrM+70a4e5sN78KhLA6+d8iRK7sNNOivVf2QWocDP1Z7Ygslqk3cCo2BZAWJ3vk7uzA7Kcb8XTzyry9/ihn4lKZu+UMi3Ze4JGGQTzeJJg21f0KnHfpemoWv52IY/3BaPZGJgLg4ezArJ4N6NVM1qATorgkcRICwKCH1cNNSZOLj2lsUxly/GoSBqNCgKczlbxd1A5HWEmrUD82je/Ihn+u8sX2c5y9lsrqA1dYfeAKWg3UDPCgko8rTjoNmXojFxPSuJqUQW5Du5NOy8A2VRnTpSaBnnKfCHEvJHESQlHg5wlw9ldwcIGBqyCgrtpRFcvhy6aulyZVfNCUka5FcW90Wg1PNa3ME42D2RuZyIZ/rvLr8TjiU7I4ey2Vs9dS8+3TsLIXjzasRK9mlQn2cVUhaiHshyROQmyfBYeXgkYLfRZD1TZqR1Rs5vFNId7qBiJKjVar4YEaFXigRgVmPdWQaylZnLiaTGJaNnqDEZ1WQ3V/d6r7u5f4NAZClGeSOIny7cAS+HOu6fXjn0HYY2pGc8+O3HqirrEMDC+XNBoNFb1cqOgl3W9CWJskTqJ8q9EZ/GpAk4HQYqja0dyTpAw9l66bpthoVFlanIQQwpokcRLlm28oPP8HOHuqHck9O37VNL6piq8rvu4yF48QQliT3cwcLoTFYv6B05v/fe/iVWbmairI8ehkABoGS2uTEEJYmyROony5EQnL+sCKgXmTpzLsaLSpxalRFUmchBDC2iRxEuVHWgJ8/7RpcsvAelCtrdoRlYhjt7rqGgQXvaK3EEKI+yeJkygfslJhWV9IPA/eVWHQGnAp+y00qVk5XExIA6ChDAwXQgirk8RJ2L+cbFg1BK4eBFc/eHYdeFVSO6oSceJqMooClbxd8Je5eoQQwuokcRL2zWiEn8bB+W3g6AaDVoN/bbWjKjHHonO76aS1SQghSoMkTsLOKeDkDloH6PcdVGmpdkAlKjdxkvmbhBCidMg8TsK+aXXQ4xNo+RwENVI7mhKXOzC8YWUZGC6EEKVBWpyEfYraAwa96bVGY5dJU0a2gXO3FnSVgeFCCFE6JHESdkdzYQcs6QH/GwD6DLXDsZpTsckYFfD3cJY1yoQQopRI4iTsinf6RXRrh4JRb5oRXGe/T5qdiDHNGF5f5m8SQohSI2OchP1IvEDb83PQ5KRB9U7Q80vQ2u/fBidvJU71KpXddfaEEKKskcRJ2IeUOBz+1w9NTgpKxUZonlkKDvbb2gRwMiYFgPqVpMVJCCFKi/3+OS7Kj8xkWNYHzc1I0pwCyem/0tRNZ8eMRuW2Fif7vlYhhLAlkjiJsi/hDCReQHEPIKLW6+ARqHZEVheVmE56tgEnBy01/N3VDkcIIcoN6aoTZV+VljBsIzk5etIOXVU7mlKR29pUt6InDjr5+0cIIUqL/MQVZZOiQOq1f98HN4VKTdWKptTJwHAhhFCHJE6ibPrrc1jQBi7vUzsSVZyQ8U1CCKEKSZxE2XP4f7B1GmQkQvR+taNRhTxRJ4QQ6pDESZQtZ7fAj2NNr9u9BA+MVjceFSSl64m+aZoRPUwSJyGEKFV2lTiFhoai0WjyfH3wwQdF7pOZmcnYsWOpUKECHh4e9O7dm7i4uFKKWBTLlf2waggoBmj8DHSbqXZEqjgZa+qmq+zjirero8rRCCFE+WJXiRPAzJkziYmJMX+99NJLRZZ/5ZVX+Pnnn1m9ejV//PEHV69e5emnny6laIXFEs7Csr6gT4eaXeGpBXY9K3hRZP4mIYRQj91NR+Dp6UlQUJBFZZOSkvjmm29Yvnw5Dz30EACLFy+mXr16/P333zzwwAPWDFUUxx8fmsY0BTeHft+Brvy2tJyJM41vkifqhBCi9Nndn+wffPABFSpUoFmzZnz88cfk5OQUWvbAgQPo9Xq6detm3hYWFkbVqlWJiIgojXCFpZ6cD61fgEGrwdlD7WhUdTrWlDjVqSiJkxBClDa7anF6+eWXad68OX5+fuzevZvJkycTExPDJ598UmD52NhYnJyc8PHxybO9YsWKxMbGFnqerKwssrKyzO+Tk01dJ3q9Hr1ef/8XckvusUrymGWK0QBa3a03DvDwe6aXhdRHeagvRVE4favFqWYF13u+1vJQVyVJ6styUlfFI/VlOWvWVXGOqVEURSnxCErQpEmT+PDDD4ssc/LkScLCwvJt/+9//8sLL7xAamoqzs75F3xdvnw5w4cPz5MEAbRu3ZouXboUet7p06czY8aMAo/n5uZWZKzCQoqRVpELSHGuxKlKvUGjUTsim5CYBTMOOqDTKHzc2oBMGi6EEPcvPT2dgQMHkpSUhJdX0eNHbb7F6dVXX2XYsGFFlqlRo0aB29u0aUNOTg6RkZHUrVs33+dBQUFkZ2dz8+bNPK1OcXFxRY6Tmjx5MhMnTjS/T05OJiQkhO7du9+1wotDr9ezZcsWHn74YRwdy9GYHkVB++ub6G7uQ9E5UeOpNyEg//fvTuWhvn4/HQ8HD1Er0JMnHm93z8cpD3VVkqS+LCd1VTxSX5azZl3l9hxZwuYTp4CAAAICAu5p38OHD6PVagkMLHjR1xYtWuDo6Mi2bdvo3bs3AKdPnyYqKoq2bdsWelxnZ+cCW7AcHR2tcuNb67g264+P4cB/AQ2apxfhGNywWLvbc32dTzDN31Q3yKtErtGe68oapL4sJ3VVPFJflrNGXRXneDafOFkqIiKCPXv20KVLFzw9PYmIiOCVV15h8ODB+Pr6AhAdHU3Xrl357rvvaN26Nd7e3owYMYKJEyfi5+eHl5cXL730Em3btpUn6tRy4Fv4/V3T60c/gga91I3Hxpy+NYdT3SAZGC6EEGqwm8TJ2dmZFStWMH36dLKysqhevTqvvPJKni41vV7P6dOnSU9PN2/79NNP0Wq19O7dm6ysLMLDw/m///s/NS5BnN4EGyaYXj/4KrR5XtVwbNHpuFRAnqgTQgi12E3i1Lx5c/7+++8iy4SGhnLnWHgXFxcWLFjAggULrBmeuJuUOFjzHChGaDoYHpqidkQ2J8dg5Pw1U+IUJi1OQgihCnkmR9gGz4rw+GcQ9jg88bk8RVeAyOvpZBuMuDnpqOzjqnY4QghRLtlNi5OwA02egcb9JGkqRO7El7UreqLVSh0JIYQapMVJqCfjBqwZASm3TTYqSVOhcie+DJPxTUIIoRppcRLq0GfA/wZAVAQkR8PwTZI03cUZc4tT+V5yRggh1CQtTqL0GXJMLU1REeDsDT3mStJkgbPXZI06IYRQmyROonQpCmycCKc3gs4ZBvwPKjZQOyqbl51jJPK6aRoNaXESQgj1SOIkSteO2XDwW9Booc83ENpe7YjKhEvX0zAYFTycHQjyclE7HCGEKLckcRKl59BS+OPWwsk95kK9J9SNpww5e2v+ppqBHmikW1MIIVQjg8NF6aneEfzrQIOnoeVzakdTppy9NWN47UDpphNCCDVJ4iRKj09VGLUdnOSXf3GdizclTrUkcRJCCFVJV52wrrjjcOKnf987e8oTdPfg7K05nKTFSQgh1CWJk7Cem1GwtDesGpI3eRLFYjAqXEhIA6B2oExFIIQQapLESVhH2nX4/mlIiYGAMKj+oNoRlVmXE9PJzjHi7KClsq+sUSeEEGqSxEmUvOw0WN4Prp8FryoweC24+qodVZllfqIuwAOdrFEnhBCqksRJlCyDHlYPh+j94OIDz64D78pqR1WmnbuVOMnEl0IIoT5JnETJURT4eQKc/RUcXGHgKgioq3ZUZV7uUiu1AiRxEkIItUniJEqOotx6ak4HfRdD1TZqR2QXpMVJCCFsh8zjJEqOVguPzIZmgyGoodrR2AVFUTh/TeZwEkIIWyEtTuL+Rf0NOdmm1xqNJE0lKDY5k7RsAzqthqp+7mqHI4QQ5Z4kTuL+XNgBSx6H5X1NT9OJEnUh3lSn1fzccHKQ/65CCKE2+Uks7l3MEVgxGIx6cPEGBxe1I7I7F24ttVIjQFqbhBDCFkjiJO5N4kVY2geyUyD0Qei1CLQ6taOyO+dvtTjVkCfqhBDCJkjiJIovNR6WPg1p16BiQ+i/DByltckazsfnTn4pLU5CCGELJHESxZOVahrPlHgBvKvCoDWmbjphFRekxUkIIWyKJE6ieK6fhevnwdXPNCu4VyW1I7JbGdkGriZlAFDDX1qchBDCFsg8TqJ4gpvB8E2QkwX+tdWOxq5dTEhDUcDHzRE/dye1wxFCCIEkTsJSKXHgWdH0WuZpKhUXEm49UefvjkYji/sKIYQtsJuuuh07dqDRaAr82rdvX6H7de7cOV/5F198sRQjLwN2z4cFreBShNqRlCsyvkkIIWyP3bQ4tWvXjpiYmDzbpkyZwrZt22jZsmWR+44aNYqZM2ea37u5uVklxjLpyEr47R3T6yv7oFpbdeMpR/59ok4SJyGEsBV2kzg5OTkRFBRkfq/X6/nxxx956aWX7trN4ebmlmdfccu5bfDjGNPrB8ZAu5fUjaec+bfFSQaGCyGErbCbrro7/fTTT1y/fp3hw4ffteyyZcvw9/enYcOGTJ48mfT09FKI0MZFH4SVz4IxBxr2ge7vmdahE6VCURTzrOEyh5MQQtgOu2lxutM333xDeHg4VapUKbLcwIEDqVatGsHBwfzzzz+8+eabnD59mnXr1hW6T1ZWFllZWeb3ycnJgKmVS6/Xl8wF3Dre7f+WmsTzOCzri0afhrF6JwyPzwODwfRlw1SrLyuIu21x30qeTiV+TfZUV6VB6styUlfFI/VlOWvWVXGOqVEURSnxCErQpEmT+PDDD4ssc/LkScLCwszvr1y5QrVq1Vi1ahW9e/cu1vm2b99O165dOXfuHDVr1iywzPTp05kxY0a+7cuXL7eL8VHNLi2iauIubrqG8lftyeToXNUOqdw5m6ThixM6/F0UpjSz7YRVCCHKuvT0dAYOHEhSUhJeXl5FlrX5xCk+Pp7r168XWaZGjRo4Of07z82sWbOYP38+0dHRODo6Fut8aWlpeHh4sHnzZsLDwwssU1CLU0hICAkJCXet8OLQ6/Vs2bKFhx9+uNjXcV9yMtFun4Wx3XjwCCy9894n1erLCv637zJTfzpJpzr+/OfZ5iV+fHuqq9Ig9WU5qavikfqynDXrKjk5GX9/f4sSJ5vvqgsICCAgIMDi8oqisHjxYoYMGXJPFXv48GEAKlUqfEZsZ2dnnJ2d8213dHS0yo1vrePmYTT8u0ivoyP0+IiyumRvqdSXlV2+kQmYpiKw5rXYQ12VJqkvy0ldFY/Ul+WsUVfFOZ7dDQ7fvn07Fy9eZOTIkfk+i46OJiwsjL179wJw/vx5Zs2axYEDB4iMjOSnn35iyJAhdOzYkcaNG5d26OoxGmHtCPj1bdNrobqLCaYHFKrLUitCCGFTbL7Fqbi++eYb2rVrl2fMUy69Xs/p06fNT805OTmxdetWPvvsM9LS0ggJCaF379688847pR22ehQFfp0Mx9eD1hGaDJCZwW1A5HXTVAShFSRxEkIIW2J3idPy5csL/Sw0NJTbh3SFhITwxx9/lEZYtmvXp7Bnoel1r4WSNNkAg1Eh6rq0OAkhhC2yu646UQyHlsG2W08Hhs+GRn3UjUcAcPVmBtkGI046LcE+8kSjEELYEkmcyqszv8JPt2YCb/cytB2jbjzCLLebrmoFN3RamXRUCCFsiSRO5VFaAqx5DhQDNO4P3fLPSSXUczFBxjcJIYStksSpPHL3hyfnQ90e8NQXoJXbwJbkJk7V/cv+ZKpCCGFv7G5wuLBQw6ehQS9Zf84GRea2OMnAcCGEsDnS1FBeZNyE1cMhKfrfbZI02aTI3CfqpKtOCCFsjrQ4lQf6TFgxEC79BTejYORWSZpsVI7ByOVEU+IkLU5CCGF7pMXJ3hkNsG6kKWly9oInPpOkyYZduZFBjlHB2UFLkJeL2uEIIYS4gyRO9kxR4JfX4eTPoHOC/sshqJHaUYkiXLxtxnCtTEUghBA2RxIne7bzY9j/DaCBp7+G6g+qHZG4i4vxuQPD5Yk6IYSwRZI42asjK+H390yvH/0IGvRUNRxhmUuyRp0QQtg0GRxur6o/CIH1oe6j0OZ5taMRFrp0a2B4NUmchBDCJkniZK+8gmHEFnCSX8BlSe7ivtUqSFedEELYIumqsyfXTsKxdf++d/aQJ+jKEINR4fINU+JU1U8SJyGEsEXS4mQvkq7A0t6QfGuCy4ZPqxuPKLaYpAz0BgVHnYZgH1e1wxFCCFEAaXGyB+mJ8P3TpqTJvy7U6Kx2ROIe5HbThfi6oZOpCIQQwiZJ4lTWZafD//pDwmnwDIbBa8HNT+2oxD3IXWqlqoxvEkIImyWJU1lmyIE1z8HlPeDibUqafELUjkrco0uJpqkIqsn4JiGEsFmSOJVVigIbJsCZTaBzhgEroGJ9taMS9yHK3OIkT0IKIYStksSpLHP1BY0W+vwXqrVTOxpxny7lTkUgLU5CCGGz5Km6skqjge6zoEl/qNhA7WjEfVIUhahEmcNJCCFsnbQ4lTVRf4M+89/3kjTZhcS0bFKzcgAIkRYnIYSwWZI4lSWRu+DbJ0zzNWWlqB2NKEG5S60Eebng4qhTORohhBCFkcSprIg9Bv8bAIZscPUBR2mVsCey1IoQQpQNkjiVBTejbrUyJUPVdtD7G9BKq4Q9uSSJkxBClAmSONk4p5wUHP7XF1JjIbA+DPgfOLqoHZYoYeY5nGQqAiGEsGnyVJ0ty07jgfNz0aRfAO8Q0wSXrj5qRyWswDyHkwwMF0IIm1ZmWpzee+892rVrh5ubGz4+PgWWiYqKokePHri5uREYGMjrr79OTk5OkcdNTExk0KBBeHl54ePjw4gRI0hNTbXCFdyDGxdxz4pDcfWFwevAK1jtiISV5E5FIImTEELYtjKTOGVnZ9O3b19Gjx5d4OcGg4EePXqQnZ3N7t27+fbbb1myZAlTp04t8riDBg3i+PHjbNmyhQ0bNrBz506ef/55a1xC8VVsyK7ab2N4ZgUE1FE7GmElmXoD11KyAEmchBDC1pWZrroZM2YAsGTJkgI//+233zhx4gRbt26lYsWKNG3alFmzZvHmm28yffp0nJyc8u1z8uRJNm/ezL59+2jZsiUA8+fP57HHHmPOnDkEB6vfwpPiWgWlcgu1wxBWdOWGqbXJw9kBHzdHlaMRQghRlDLT4nQ3ERERNGrUiIoVK5q3hYeHk5yczPHjxwvdx8fHx5w0AXTr1g2tVsuePXusHrMQAJcTMwCo4uuKRqNRORohhBBFKTMtTncTGxubJ2kCzO9jY2ML3ScwMDDPNgcHB/z8/ArdByArK4usrCzz+6SkJMA0Xkqv199T/AXR6/Wkp6dz/fp1HB2lJeJuymp9nbx0FWNWOoHOrly/fr1UzllW60otUl+Wk7oqHqkvy1mzrlJSTJNKK4py17KqJk6TJk3iww8/LLLMyZMnCQsLK6WILDN79mxz1+HtqlevrkI0wl58D3w/Ru0ohBCi/EpJScHb27vIMqomTq+++irDhg0rskyNGjUsOlZQUBB79+7Nsy0uLs78WWH7XLt2Lc+2nJwcEhMTC90HYPLkyUycONH83mg0kpiYSIUKFUq0qyU5OZmQkBAuX76Ml5dXiR3XXkl9WU7qqnikviwndVU8Ul+Ws2ZdKYpCSkqKRWObVU2cAgICCAgIKJFjtW3blvfee49r166Zu9+2bNmCl5cX9evXL3SfmzdvcuDAAVq0MA3A3r59O0ajkTZt2hR6LmdnZ5ydnfNsK2yKhJLg5eUl/6GKQerLclJXxSP1ZTmpq+KR+rKcterqbi1NucrM4PCoqCgOHz5MVFQUBoOBw4cPc/jwYfOcS927d6d+/fo8++yzHDlyhF9//ZV33nmHsWPHmpOcvXv3EhYWRnR0NAD16tXjkUceYdSoUezdu5e//vqLcePG0b9/f5t4ok4IIYQQtqXMDA6fOnUq3377rfl9s2bNAPj999/p3LkzOp2ODRs2MHr0aNq2bYu7uztDhw5l5syZ5n3S09M5ffp0ngHcy5YtY9y4cXTt2hWtVkvv3r2ZN29e6V2YEEIIIcqMMpM4LVmypNA5nHJVq1aNX375pdDPO3funG/EvJ+fH8uXLy+JEEucs7Mz06ZNy9ctKAom9WU5qavikfqynNRV8Uh9Wc5W6kqjWPLsnRBCCCGEKDtjnIQQQggh1CaJkxBCCCGEhSRxEkIIIYSwkCROZczGjRtp06YNrq6u+Pr60rNnT7VDsmlZWVk0bdoUjUbD4cOH1Q7HJkVGRjJixAiqV6+Oq6srNWvWZNq0aWRnZ6sdmk1YsGABoaGhuLi40KZNm3wT7QqT2bNn06pVKzw9PQkMDKRnz56cPn1a7bDKhA8++ACNRsOECRPUDsVmRUdHM3jwYCpUqICrqyuNGjVi//79qsQiiVMZsnbtWp599lmGDx/OkSNH+Ouvvxg4cKDaYdm0N954Q+bkuotTp05hNBr56quvOH78OJ9++ikLFy7krbfeUjs01a1cuZKJEycybdo0Dh48SJMmTQgPD8+34oCAP/74g7Fjx/L333+zZcsW9Ho93bt3Jy0tTe3QbNq+ffv46quvaNy4sdqh2KwbN27Qvn17HB0d2bRpEydOnGDu3Ln4+vqqE5AiygS9Xq9UrlxZ+c9//qN2KGXGL7/8ooSFhSnHjx9XAOXQoUNqh1RmfPTRR0r16tXVDkN1rVu3VsaOHWt+bzAYlODgYGX27NkqRlU2XLt2TQGUP/74Q+1QbFZKSopSu3ZtZcuWLUqnTp2U8ePHqx2STXrzzTeVDh06qB2GmbQ4lREHDx4kOjoarVZLs2bNqFSpEo8++ijHjh1TOzSbFBcXx6hRo/j+++9xc3NTO5wyJykpCT8/P7XDUFV2djYHDhygW7du5m1arZZu3boRERGhYmRlQ1JSEkC5v4+KMnbsWHr06JHnHhP5/fTTT7Rs2ZK+ffsSGBhIs2bN+Prrr1WLRxKnMuLChQsATJ8+nXfeeYcNGzbg6+tL586dSUxMVDk626IoCsOGDePFF1+kZcuWaodT5pw7d4758+fzwgsvqB2KqhISEjAYDFSsWDHP9ooVKxIbG6tSVGWD0WhkwoQJtG/fnoYNG6odjk1asWIFBw8eZPbs2WqHYvMuXLjAl19+Se3atfn1118ZPXo0L7/8cp7VREqTJE4qmzRpEhqNpsiv3DEoAG+//Ta9e/emRYsWLF68GI1Gw+rVq1W+itJhaV3Nnz+flJQUJk+erHbIqrK0vm4XHR3NI488Qt++fRk1apRKkYuybuzYsRw7dowVK1aoHYpNunz5MuPHj2fZsmW4uLioHY7NMxqNNG/enPfff59mzZrx/PPPM2rUKBYuXKhKPGVmyRV79eqrrzJs2LAiy9SoUYOYmBgA6tevb97u7OxMjRo1iIqKsmaINsPSutq+fTsRERH5puVv2bIlgwYNUu2vlNJmaX3lunr1Kl26dKFdu3YsWrTIytHZPn9/f3Q6HXFxcXm2x8XFERQUpFJUtm/cuHFs2LCBnTt3UqVKFbXDsUkHDhzg2rVrNG/e3LzNYDCwc+dOvvjiC7KystDpdCpGaFsqVaqU53cfQL169Vi7dq0q8UjipLKAgAACAgLuWq5FixY4Oztz+vRpOnToAIBerycyMpJq1apZO0ybYGldzZs3j3fffdf8/urVq4SHh7Ny5UratGljzRBtiqX1BaaWpi5duphbMrVaaYx2cnKiRYsWbNu2zTzth9FoZNu2bYwbN07d4GyQoii89NJLrF+/nh07dlC9enW1Q7JZXbt25ejRo3m2DR8+nLCwMN58801Jmu7Qvn37fFNbnDlzRrXffZI4lRFeXl68+OKLTJs2jZCQEKpVq8bHH38MQN++fVWOzrZUrVo1z3sPDw8AatasKX8BFyA6OprOnTtTrVo15syZQ3x8vPmz8t6yMnHiRIYOHUrLli1p3bo1n332GWlpaQwfPlzt0GzO2LFjWb58OT/++COenp7mcWDe3t64urqqHJ1t8fT0zDf2y93dnQoVKsiYsAK88sortGvXjvfff59+/fqxd+9eFi1apFrLuCROZcjHH3+Mg4MDzz77LBkZGbRp04bt27erN5eFsAtbtmzh3LlznDt3Ll9iqZTzNcCfeeYZ4uPjmTp1KrGxsTRt2pTNmzfnGzAu4MsvvwSgc+fOebYvXrz4rl3GQhSlVatWrF+/nsmTJzNz5kyqV6/OZ599xqBBg1SJR6OU95+MQgghhBAWkoEMQgghhBAWksRJCCGEEMJCkjgJIYQQQlhIEichhBBCCAtJ4iSEEEIIYSFJnIQQQgghLCSJkxBCCCGEhSRxEkIIIYSwkCROQgghhBAWksRJCCGEEMJCkjgJIYQQQlhIEichhChAfHw8QUFBvP/+++Ztu3fvxsnJiW3btqkYmRBCTbLIrxBCFOKXX36hZ8+e7N69m7p169K0aVOeeuopPvnkE7VDE0KoRBInIYQowtixY9m6dSstW7bk6NGj7Nu3D2dnZ7XDEkKoRBInIYQoQkZGBg0bNuTy5cscOHCARo0aqR2SEEJFMsZJCCGKcP78ea5evYrRaCQyMlLtcIQQKpMWJyGEKER2djatW7emadOm1K1bl88++4yjR48SGBiodmhCCJVI4iSEEIV4/fXXWbNmDUeOHMHDw4NOnTrh7e3Nhg0b1A5NCKES6aoTQogC7Nixg88++4zvv/8eLy8vtFot33//PX/++Sdffvml2uEJIVQiLU5CCCGEEBaSFichhBBCCAtJ4iSEEEIIYSFJnIQQQgghLCSJkxBCCCGEhSRxEkIIIYSwkCROQgghhBAWksRJCCGEEMJCkjgJIYQQQlhIEichhBBCCAtJ4iSEEEIIYSFJnIQQQgghLCSJkxBCCCGEhf4fyS+Le53fmMwAAAAASUVORK5CYII='></div>"
      ],
      "text/plain": [
       "<IPython.core.display.HTML object>"
      ]
     },
     "metadata": {},
     "output_type": "display_data"
    }
   ],
   "source": [
    "import numpy as np\n",
    "import matplotlib.pyplot as plt\n",
    "from IPython.display import display, HTML\n",
    "\n",
    "def f(x):\n",
    "    return x**3 - 4*x\n",
    "\n",
    "def f_styczna(x, x_0):\n",
    "    return (3*x_0**2 - 4)*(x - x_0) + f(x_0)\n",
    "\n",
    "x = np.linspace(-6, 6, 200)\n",
    "x_0 = -1.5\n",
    "\n",
    "y = f(x)\n",
    "y_styczna = f_styczna(x, x_0)\n",
    "\n",
    "slope = 3*x_0**2 - 4\n",
    "x_intercept = x_0 - f(x_0)/slope\n",
    "y_intercept = 0\n",
    "theta = np.arctan(slope)\n",
    "theta_deg = np.degrees(theta)\n",
    "angle_radius = 0.5\n",
    "arc = np.linspace(0, theta, 30)\n",
    "\n",
    "fig, ax = plt.subplots(figsize=(6,4))\n",
    "ax.plot(x, y, label=\"f(x)\")\n",
    "ax.plot(x, y_styczna, \"--\", label=\"styczna\")\n",
    "ax.scatter(x_0, f(x_0), color='red', zorder=5)\n",
    "ax.axhline(0, color='black', linewidth=2)\n",
    "ax.plot(x_intercept + angle_radius*np.cos(arc), y_intercept + angle_radius*np.sin(arc), color='green')\n",
    "ax.text(x_intercept + 0.6, y_intercept + 0.1, f\"{theta_deg:.1f}°\", color='green', fontsize=12)\n",
    "\n",
    "ax.set_title(\"Interpretacjia Geometryczna\")\n",
    "ax.set_xlabel(\"x\")\n",
    "ax.set_ylabel(\"f(x)\")\n",
    "ax.set_ylim(-10, 10)\n",
    "ax.grid(True)\n",
    "ax.legend()\n",
    "plt.tight_layout()\n",
    "\n",
    "buf = io.BytesIO()\n",
    "plt.savefig(buf, format='png', bbox_inches='tight')\n",
    "buf.seek(0)\n",
    "import base64\n",
    "img_b64 = base64.b64encode(buf.getvalue()).decode('utf-8')\n",
    "display(HTML(f\"<div style='text-align:center;'><img src='data:image/png;base64,{img_b64}'></div>\"))\n",
    "buf.close()\n",
    "plt.close()\n"
   ]
  },
  {
   "cell_type": "markdown",
   "id": "8098e9fa-070b-475d-9d44-ab02f13add6a",
   "metadata": {},
   "source": [
    "#### Zadanie 2 [Pan Ruslan]\n",
    "\n",
    "Omów podstawowe wzory związane z całką nieoznaczoną. Jaki jest związek całki nieoznaczonej z całką oznaczoną? \n",
    "Jaka jest geometryczna interpretacja całki oznaczonej?"
   ]
  },
  {
   "cell_type": "markdown",
   "id": "994a0fcb",
   "metadata": {},
   "source": []
  }
 ],
 "metadata": {
  "kernelspec": {
   "display_name": ".venv",
   "language": "python",
   "name": "python3"
  },
  "language_info": {
   "codemirror_mode": {
    "name": "ipython",
    "version": 3
   },
   "file_extension": ".py",
   "mimetype": "text/x-python",
   "name": "python",
   "nbconvert_exporter": "python",
   "pygments_lexer": "ipython3",
   "version": "3.13.5"
  },
  "toc": {
   "base_numbering": 1,
   "nav_menu": {},
   "number_sections": false,
   "sideBar": true,
   "skip_h1_title": false,
   "title_cell": "Table of Contents",
   "title_sidebar": "Contents",
   "toc_cell": false,
   "toc_position": {},
   "toc_section_display": true,
   "toc_window_display": true
  }
 },
 "nbformat": 4,
 "nbformat_minor": 5
}
