{
 "cells": [
  {
   "cell_type": "markdown",
   "id": "be5da811-decc-479d-9ef5-c00579ef8b05",
   "metadata": {},
   "source": [
    "# Laboratoria 1 "
   ]
  },
  {
   "cell_type": "markdown",
   "id": "c14d862a-fd3c-4dfc-afe4-42950a794389",
   "metadata": {},
   "source": [
    "#### Zadanie 1 [Daniel]\n",
    "\n",
    "Omów podstawowe wzory rachunku różniczkowego,  w szczególności wzór na pochodną funkcji złożonej.\n",
    "Jaka jest fizyczna i geometryczna interpretacja pochodnej?"
   ]
  },
  {
   "cell_type": "markdown",
   "id": "092bbcf2",
   "metadata": {},
   "source": [
    "$$\n",
    "  \\text{1. Definicja pochodnej funkcji: } \\\\\n",
    "$$\n",
    "$$\n",
    "  f'(x) = \\lim_{\\Delta x \\to 0} \\frac{f(x + \\Delta x) - f(x) }{\\Delta x} \\\\\n",
    "$$\n",
    "$$\n",
    "  \\text{2. Zapis różnicowy} \\quad \\\\\n",
    "$$\n",
    "$$\n",
    "  f'(x) = \\frac{df}{dx}\n",
    "$$"
   ]
  },
  {
   "cell_type": "markdown",
   "id": "8ccabbc8",
   "metadata": {},
   "source": [
    "$$\n",
    "  \\text{3. Najważniejsze wzory: } \\\\\n",
    "$$\n",
    "$$\n",
    "  \\frac{d}{dx}x^n = n \\cdot x^{n - 1} \\\\\n",
    "$$\n",
    "$$\n",
    "  \\frac{d}{dx}e^{a \\cdot x} = a \\cdot e^{a \\cdot x} \\\\\n",
    "$$\n",
    "$$\n",
    "  \\frac{d}{dx}a^x = a^x \\cdot ln(a) \\\\\n",
    "$$\n",
    "$$\n",
    "  \\frac{d}{dx}\\ln(x) = \\frac{1}{x} \\\\\n",
    "$$\n",
    "$$\n",
    "  \\frac{d}{dx}\\log_a(x) = \\frac{1}{x \\cdot \\ln(a)}\n",
    "$$\n",
    "$$\n",
    "  \\text{4. Najważniejsze wzory trygonometryczne: } \\\\\n",
    "$$\n",
    "$$\n",
    "  \\frac{d}{dx}\\sin(x) = \\cos(x) \\\\\n",
    "$$\n",
    "$$\n",
    "  \\frac{d}{dx}\\cos(x) = -\\sin(x) \\\\\n",
    "$$\n",
    "$$\n",
    "  \\frac{d}{dx}\\csc(x) = - \\csc(x) \\cot(x) \\\\\n",
    "$$\n",
    "$$\n",
    "  \\frac{d}{dx}\\sec(x) = \\sec(x) \\tan(x) \\\\\n",
    "$$\n",
    "$$\n",
    "  \\frac{d}{dx}\\tan(x) = \\frac{1}{\\cos^2(x)} = 1 + \\tan^2(x) \\\\\n",
    "$$\n",
    "$$\n",
    "  \\frac{d}{dx}\\cot(x) = \\frac{-1}{\\sin^2(x)} = - (1 + \\cot^2(x)) \\\\\n",
    "$$\n",
    "$$\n",
    "  \\frac{d}{dx}\\sin^{-1}(x) = \\frac{1}{\\sqrt{1 - x^2}} \\\\\n",
    "$$\n",
    "$$\n",
    "  \\frac{d}{dx}\\cos^{-1}(x) = \\frac{-1}{\\sqrt{1 - x^2}} \\\\\n",
    "$$\n",
    "$$\n",
    "  \\frac{d}{dx}\\csc^{-1}(x) = -\\frac{1}{|x|\\sqrt{x^2 - 1}} \\\\\n",
    "$$\n",
    "$$\n",
    "  \\frac{d}{dx}\\sec^{-1}(x) = \\frac{1}{|x|\\sqrt{x^2 - 1}} \\\\\n",
    "$$\n",
    "$$\n",
    "  \\frac{d}{dx}\\tan^{-1}(x) = \\frac{1}{1 + x^2} \\\\\n",
    "$$\n",
    "$$\n",
    "  \\frac{d}{dx}\\cot^{-1}(x) = \\frac{-1}{1 + x^2} \\\\\n",
    "$$"
   ]
  },
  {
   "cell_type": "markdown",
   "id": "5779ca0d",
   "metadata": {},
   "source": [
    "$$\n",
    "  \\text{5. Pohodna funckji złożonej: } \\\\\n",
    "$$\n",
    "$$\n",
    "  \\frac{d}{dx}f(g(x)) = (f \\circ g)(x) = f'(g(x)) \\cdot g'(x) \\\\\n",
    "$$\n",
    "$$\n",
    "  \\textcolor{red}{\\text{Wynika to z: }} \\\\\n",
    "$$\n",
    "$$\n",
    "  \\textcolor{red}{\\frac{df}{dx} = \\frac{df}{dg} \\cdot \\frac{dg}{dx}} \\\\\n",
    "$$\n",
    "$$\n",
    "  \\text{6. Pohodna mnożenia funkcji: } \\\\\n",
    "$$\n",
    "$$\n",
    "  \\frac{d}{dx}f(x) \\cdot g(x) = f'(x) \\cdot g(x) + f(x) \\cdot g'(x) \\\\\n",
    "$$\n",
    "$$\n",
    "  \\frac{d}{dx}(f_1 \\cdot f_2 \\cdot ... \\cdot f_n) = \\sum_{i=1}^{n}f_1 \\cdot ... \\cdot f'_i \\cdot ... f_n \\\\\n",
    "$$\n",
    "$$\n",
    "  \\text{7. Pohodna dzielenia funkcji: } \\\\\n",
    "$$\n",
    "$$\n",
    "  \\frac{d}{dx}\\left(\\frac{f(x)}{g(x)}\\right) = \\frac{f'(x) \\cdot g(x) - f(x) \\cdot g'(x)}{g(x)^2}, \\text{ g(x) != 0} \\\\\n",
    "$$"
   ]
  },
  {
   "cell_type": "markdown",
   "id": "46bce443",
   "metadata": {},
   "source": [
    "$$\n",
    "  \\text{8. Interpretacjia geometryczna: } \\\\\n",
    "$$\n",
    "$$\n",
    "  \\text{Pohodna w punkcie } x_0 \\text{ opisuje poziom nachylenia stycznej w tym punkcie do osi OX.} \\\\ \n",
    "$$\n",
    "$$\n",
    "  f'(x_0) = \\tan(\\theta) \\text{ gdzie } \\theta \\text{ jest nachyleniem. } \\\\\n",
    "$$\n",
    "$$\n",
    "  \\text{Mówi o poziomie nachylanie stycznej w punkcjie.}\n",
    "$$\n",
    "$$\n",
    "  \\text{9. Interpretacjia fizyczna: } \\\\\n",
    "$$\n",
    "$$\n",
    "  \\text{Opisuje prędkość zmian wielkośćwzględem x. Dla bardzo małych zmian x. Przykładowo prędkość chwilowa.} \\\\\n",
    "$$\n",
    "$$\n",
    "  \\text{10. Gradienty: } \\\\\n",
    "$$\n",
    "$$\n",
    "  \\nabla f(x, y, z, ...) = \\left(\\frac{df}{dx}, \\frac{df}{dy}, \\frac{df}{dz}, ... \\right) \\\\\n",
    "$$\n",
    "$$\n",
    "  \\textcolor{blue}{\\text{Gradient wskazuje nam kierunek w którym zmiany zachodzą najszybciej}}\n",
    "$$"
   ]
  },
  {
   "cell_type": "code",
   "execution_count": 50,
   "id": "d967278f",
   "metadata": {},
   "outputs": [
    {
     "data": {
      "image/png": "[encoded data removed]",
      "text/plain": [
       "<Figure size 640x480 with 1 Axes>"
      ]
     },
     "metadata": {},
     "output_type": "display_data"
    }
   ],
   "source": [
    "import numpy as np\n",
    "import matplotlib.pyplot as plt\n",
    "\n",
    "def f(x):\n",
    "  return x**3 - 4*x\n",
    "\n",
    "def f_styczna(x, x_0):\n",
    "  return (3*x_0**2 - 4)*(x - x_0) + f(x_0)\n",
    "\n",
    "x = np.linspace(-6, 6, 200)\n",
    "x_0 = -1.5\n",
    "\n",
    "y = f(x)\n",
    "y_styczna = f_styczna(x, x_0)\n",
    "\n",
    "plt.plot(x, y, label=\"f(x)\")\n",
    "plt.plot(x, y_styczna, \"--\", label=\"styczna\")\n",
    "plt.scatter(x_0, f(x_0), color='red', zorder=5)\n",
    "plt.axhline(0, color='black', linewidth=2)\n",
    "\n",
    "slope = 3*x_0**2 - 4\n",
    "x_intercept = x_0 - f(x_0)/slope\n",
    "y_intercept = 0\n",
    "theta = np.arctan(slope)\n",
    "theta_deg = np.degrees(theta)\n",
    "angle_radius = 0.5\n",
    "arc = np.linspace(0, theta, 30)\n",
    "plt.plot(x_intercept + angle_radius*np.cos(arc), y_intercept + angle_radius*np.sin(arc), color='green')\n",
    "plt.text(x_intercept + 0.6, y_intercept + 0.1, f\"{theta_deg:.1f}°\", color='green', fontsize=12)\n",
    "\n",
    "plt.title(\"Interpretacjia Geometryczna\")\n",
    "plt.xlabel(\"x\")\n",
    "plt.ylabel(\"f(x)\")\n",
    "plt.ylim(-10, 10)\n",
    "plt.grid(True)   \n",
    "plt.legend()     \n",
    "plt.show()\n",
    "\n"
   ]
  },
  {
   "cell_type": "markdown",
   "id": "8098e9fa-070b-475d-9d44-ab02f13add6a",
   "metadata": {},
   "source": [
    "#### Zadanie 2 [Pan Ruslan]\n",
    "\n",
    "Omów podstawowe wzory związane z całką nieoznaczoną. Jaki jest związek całki nieoznaczonej z całką oznaczoną? \n",
    "Jaka jest geometryczna interpretacja całki oznaczonej?"
   ]
  },
  {
   "cell_type": "markdown",
   "id": "994a0fcb",
   "metadata": {},
   "source": []
  }
 ],
 "metadata": {
  "kernelspec": {
   "display_name": ".venv",
   "language": "python",
   "name": "python3"
  },
  "language_info": {
   "codemirror_mode": {
    "name": "ipython",
    "version": 3
   },
   "file_extension": ".py",
   "mimetype": "text/x-python",
   "name": "python",
   "nbconvert_exporter": "python",
   "pygments_lexer": "ipython3",
   "version": "3.13.5"
  },
  "toc": {
   "base_numbering": 1,
   "nav_menu": {},
   "number_sections": false,
   "sideBar": true,
   "skip_h1_title": false,
   "title_cell": "Table of Contents",
   "title_sidebar": "Contents",
   "toc_cell": false,
   "toc_position": {},
   "toc_section_display": true,
   "toc_window_display": true
  }
 },
 "nbformat": 4,
 "nbformat_minor": 5
}
